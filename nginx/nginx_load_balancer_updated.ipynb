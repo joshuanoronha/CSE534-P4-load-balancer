{
 "cells": [
  {
   "cell_type": "code",
   "execution_count": 1,
   "id": "18a94f9b-f720-444a-bee5-8bde6cbbafa9",
   "metadata": {},
   "outputs": [],
   "source": [
    "import os\n",
    "\n",
    "# If you are using the FABRIC JupyterHub, the following three evnrionment vars\n",
    "# were automatically provided when you logged in.\n",
    "#os.environ['FABRIC_CREDMGR_HOST']='cm.fabric-testbed.net'\n",
    "#os.environ['FABRIC_ORCHESTRATOR_HOST']='orchestrator.fabric-testbed.net'\n",
    "#os.environ['FABRIC_TOKEN_LOCATION']=os.environ['HOME']+'/work/fabric_token.json'\n",
    "\n",
    "# Set your FABRIC PROJECT ID\n",
    "os.environ['FABRIC_PROJECT_ID']=''\n",
    "\n",
    "# Bastion IPs\n",
    "os.environ['FABRIC_BASTION_HOST'] = 'bastion-1.fabric-testbed.net'\n",
    "\n",
    "# Set your Bastion username and private key\n",
    "os.environ['FABRIC_BASTION_USERNAME']=''\n",
    "os.environ['FABRIC_BASTION_KEY_LOCATION']=os.environ['HOME']+''\n",
    "\n",
    "# Set the keypair FABRIC will install in your slice. \n",
    "os.environ['FABRIC_SLICE_PRIVATE_KEY_FILE']=os.environ['HOME']+'/.ssh/id_rsa'\n",
    "os.environ['FABRIC_SLICE_PUBLIC_KEY_FILE']=os.environ['HOME']+'/.ssh/id_rsa.pub'\n",
    "\n",
    "# If your slice private key uses a passphrase, set the passphrase\n",
    "#from getpass import getpass\n",
    "#print('Please input private key passphrase. Press enter for no passphrase.')\n",
    "#os.environ['FABRIC_SLICE_PRIVATE_KEY_PASSPHRASE']=getpass()"
   ]
  },
  {
   "cell_type": "code",
   "execution_count": null,
   "id": "0835182c-4dd6-4a13-a3ff-53b3b003ead3",
   "metadata": {},
   "outputs": [],
   "source": []
  },
  {
   "cell_type": "code",
   "execution_count": 2,
   "id": "849fda00-3429-4bd7-b18d-f5aaf80c69c9",
   "metadata": {},
   "outputs": [],
   "source": [
    "import json\n",
    "import traceback\n",
    "\n",
    "from fabrictestbed_extensions.fablib.fablib import fablib"
   ]
  },
  {
   "cell_type": "code",
   "execution_count": 3,
   "id": "0ebbb75f-3dc4-49a7-b5c8-1fa226d7f36b",
   "metadata": {},
   "outputs": [],
   "source": [
    "SLICE_NAME = 'nginx-lb'\n",
    "\n",
    "# We will use Ubuntu 20.04 for both nodes\n",
    "IMAGE = 'default_ubuntu_20'\n",
    "CORES = 1\n",
    "RAM = 2\n",
    "DISK_R = 50\n",
    "DISK_H = 20\n",
    "SITE=\"UCSD\"\n",
    "\n",
    "routers = {\"r1\":{}, \"r2\":{}}\n",
    "lb = \"lb\"\n",
    "clients = {\"c1\":{}, \"c2\":{}}\n",
    "servers = {\"s1\":{}, \"s2\":{}}"
   ]
  },
  {
   "cell_type": "code",
   "execution_count": 4,
   "id": "957cfea7-6626-470d-b900-d29c3a5a1dc5",
   "metadata": {},
   "outputs": [],
   "source": [
    "import datetime\n",
    "from datetime import timedelta\n",
    "\n",
    "#Create Slice\n",
    "slice = fablib.new_slice(name=SLICE_NAME)\n",
    "now = datetime.datetime.now(datetime.timezone.utc)\n",
    "end_date = (now + timedelta(days=6)).strftime(\"%Y-%m-%d %H:%M:%S %z\")\n",
    "#slice.renew(end_date)\n",
    "\n",
    "#Create Nodes\n",
    "#LB Node\n",
    "lb_node = slice.add_node(name=\"lb\", site=SITE, cores=CORES, ram=RAM, image=IMAGE, disk=DISK_R)\n",
    "\n",
    "#Server Nodes\n",
    "for s in servers.keys():\n",
    "    servers[s][\"node\"] = slice.add_node(name = s, site=SITE, cores=CORES, ram=RAM, image=IMAGE, disk=DISK_H)\n",
    "\n",
    "#Router Nodes\n",
    "for r in routers.keys():\n",
    "    routers[r][\"node\"] = slice.add_node(name = r, site=SITE, cores=CORES, ram=RAM, image=IMAGE, disk=DISK_R)\n",
    "\n",
    "#Client Nodes\n",
    "for c in clients.keys():\n",
    "    clients[c][\"node\"] = slice.add_node(name = c, site=SITE, cores=CORES, ram=RAM, image=IMAGE, disk=DISK_H)\n",
    "\n",
    "#Create Network\n",
    "#LB-Servers\n",
    "for s, v in servers.items():\n",
    "    lb_iface = lb_node.add_component(model='NIC_Basic', name=\"if_{}\".format(s)).get_interfaces()[0]\n",
    "    s_iface = v[\"node\"].add_component(model='NIC_Basic', name=\"if\").get_interfaces()[0]\n",
    "    net = slice.add_l2network(name=\"net_lb_{}\".format(s), interfaces=[lb_iface, s_iface])\n",
    "\n",
    "#LB-Routers\n",
    "for r, v in routers.items():\n",
    "    lb_iface = lb_node.add_component(model='NIC_Basic', name=\"if_{}\".format(r)).get_interfaces()[0]\n",
    "    r_iface = v[\"node\"].add_component(model='NIC_Basic', name=\"if_lb\").get_interfaces()[0]\n",
    "    net = slice.add_l2network(name=\"net_lb_{}\".format(r), interfaces=[lb_iface, r_iface])\n",
    "\n",
    "#Todo Router-Router\n",
    "\n",
    "#Routers-Clients\n",
    "for r, c in zip(routers.keys(), clients.keys()):\n",
    "    r_iface = routers[r][\"node\"].add_component(model='NIC_Basic', name=\"if_c\").get_interfaces()[0]\n",
    "    c_iface = clients[c][\"node\"].add_component(model='NIC_Basic', name=\"if\").get_interfaces()[0]\n",
    "    net = slice.add_l2network(name=\"net_{}_{}\".format(r,c), interfaces=[r_iface, c_iface])"
   ]
  },
  {
   "cell_type": "code",
   "execution_count": 5,
   "id": "eebe520e-1915-45d9-8d0d-bdcc8c9fed4d",
   "metadata": {},
   "outputs": [
    {
     "name": "stdout",
     "output_type": "stream",
     "text": [
      "\n",
      "-----------  ------------------------------------\n",
      "Slice Name   nginx-lb\n",
      "Slice ID     0b590361-ba15-41bb-8afd-7682b166b80e\n",
      "Slice State  StableOK\n",
      "Lease End    2022-11-30 06:12:30 +0000\n",
      "-----------  ------------------------------------\n",
      "\n",
      "Retry: 11, Time: 216 sec\n",
      "\n",
      "ID                                    Name    Site    Host                          Cores    RAM    Disk  Image              Management IP    State    Error\n",
      "------------------------------------  ------  ------  --------------------------  -------  -----  ------  -----------------  ---------------  -------  -------\n",
      "099ea005-bd52-4cd1-90f9-33709bfe39ff  lb      UCSD    ucsd-w2.fabric-testbed.net        1      4     100  default_ubuntu_20  132.249.252.148  Active\n",
      "406c2b9b-8769-4dbd-9467-113a7fe64a48  s1      UCSD    ucsd-w2.fabric-testbed.net        1      4     100  default_ubuntu_20  132.249.252.154  Active\n",
      "0b8a4162-7f33-4f77-b111-1dcccc31aa5a  s2      UCSD    ucsd-w2.fabric-testbed.net        1      4     100  default_ubuntu_20  132.249.252.151  Active\n",
      "448e02d9-b869-4f26-a23b-7749789fffbb  r1      UCSD    ucsd-w2.fabric-testbed.net        1      4     100  default_ubuntu_20  132.249.252.189  Active\n",
      "82420aba-f9d9-420f-83b7-4c072fd9131c  r2      UCSD    ucsd-w2.fabric-testbed.net        1      4     100  default_ubuntu_20  132.249.252.153  Active\n",
      "13476cfe-63a7-4a21-bb37-11c0975fdf3e  c1      UCSD    ucsd-w2.fabric-testbed.net        1      4     100  default_ubuntu_20  132.249.252.176  Active\n",
      "ce7a6c74-0f4e-4b70-a2c5-954338157542  c2      UCSD    ucsd-w2.fabric-testbed.net        1      4     100  default_ubuntu_20  132.249.252.147  Active\n",
      "\n",
      "Time to stable 216 seconds\n",
      "Running post_boot_config ... Time to post boot config 254 seconds\n",
      "\n",
      "Name         Node    Network      Bandwidth  VLAN    MAC                Physical OS Interface    OS Interface\n",
      "-----------  ------  ---------  -----------  ------  -----------------  -----------------------  --------------\n",
      "lb-if_s2-p1  lb      net_lb_s2            0          2E:C4:E0:E5:41:E6  ens7                     ens7\n",
      "lb-if_r1-p1  lb      net_lb_r1            0          32:D6:1D:EC:DE:30  ens10                    ens10\n",
      "lb-if_s1-p1  lb      net_lb_s1            0          32:87:50:F7:AE:6F  ens9                     ens9\n",
      "lb-if_r2-p1  lb      net_lb_r2            0          32:56:9F:D4:82:03  ens8                     ens8\n",
      "s1-if-p1     s1      net_lb_s1            0          36:32:A6:0F:FF:6D  ens7                     ens7\n",
      "s2-if-p1     s2      net_lb_s2            0          36:E6:BD:87:65:AD  ens7                     ens7\n",
      "r1-if_c-p1   r1      net_r1_c1            0          3A:F8:2B:65:6E:7C  ens8                     ens8\n",
      "r1-if_lb-p1  r1      net_lb_r1            0          3A:A8:F6:FF:3D:27  ens7                     ens7\n",
      "r2-if_lb-p1  r2      net_lb_r2            0          42:4B:6F:04:37:41  ens7                     ens7\n",
      "r2-if_c-p1   r2      net_r2_c2            0          42:AA:44:9E:26:B1  ens8                     ens8\n",
      "c1-if-p1     c1      net_r1_c1            0          46:68:48:6B:E1:EC  ens7                     ens7\n",
      "c2-if-p1     c2      net_r2_c2            0          46:CB:BD:30:B5:42  ens7                     ens7\n",
      "\n",
      "Time to print interfaces 293 seconds\n"
     ]
    },
    {
     "data": {
      "text/plain": [
       "'0b590361-ba15-41bb-8afd-7682b166b80e'"
      ]
     },
     "execution_count": 5,
     "metadata": {},
     "output_type": "execute_result"
    }
   ],
   "source": [
    "#Submit Slice Request\n",
    "slice.submit()"
   ]
  },
  {
   "cell_type": "code",
   "execution_count": 6,
   "id": "bc8f3c16-444b-4c2a-a666-e8f91257909e",
   "metadata": {},
   "outputs": [],
   "source": [
    "now = datetime.datetime.now(datetime.timezone.utc)\n",
    "end_date = (now + timedelta(days=14)).strftime(\"%Y-%m-%d %H:%M:%S %z\")\n",
    "slice.renew(end_date)"
   ]
  },
  {
   "cell_type": "code",
   "execution_count": 7,
   "id": "06dbe875-96d4-4a56-a604-f5a7254123b2",
   "metadata": {},
   "outputs": [],
   "source": [
    "#Create Subnets\n",
    "from ipaddress import ip_address, IPv4Address, IPv6Address, IPv4Network, IPv6Network\n",
    "\n",
    "try:\n",
    "    subnet1 = IPv4Network(\"192.168.1.0/24\")\n",
    "    ip_c1 = IPv4Address(\"192.168.1.1\")\n",
    "    \n",
    "    subnet2 = IPv4Network(\"192.168.2.0/24\")\n",
    "    ip_c2 = IPv4Address(\"192.168.2.1\")\n",
    "    \n",
    "    subnet3 = IPv4Network(\"192.168.3.0/24\")\n",
    "    ip_s1 = IPv4Address(\"192.168.3.1\")\n",
    "    ip_s2 = IPv4Address(\"192.168.3.2\")\n",
    "    ip_lb_s1 = IPv4Address(\"192.168.3.3\")\n",
    "    ip_lb_s2 = IPv4Address(\"192.168.3.4\")\n",
    "    ip_lb_r1 = IPv4Address(\"192.168.3.5\")\n",
    "    ip_lb_r2 = IPv4Address(\"192.168.3.6\")\n",
    "except Exception as e:\n",
    "    print(f\"Exception: {e}\")"
   ]
  },
  {
   "cell_type": "markdown",
   "id": "1b8af253-daa4-4be3-b8f2-9772d02689dc",
   "metadata": {},
   "source": [
    "# Configure clients and servers"
   ]
  },
  {
   "cell_type": "code",
   "execution_count": 8,
   "id": "27f8451d-86ef-4e83-b133-b4d1f35c3a00",
   "metadata": {},
   "outputs": [
    {
     "name": "stdout",
     "output_type": "stream",
     "text": [
      "Configuring IP 192.168.3.1 for s1\n",
      "3: ens7: <BROADCAST,MULTICAST,UP,LOWER_UP> mtu 1500 qdisc mq state UP group default qlen 1000\n",
      "    link/ether 36:32:a6:0f:ff:6d brd ff:ff:ff:ff:ff:ff\n",
      "    inet 192.168.3.1/24 scope global ens7\n",
      "       valid_lft forever preferred_lft forever\n",
      "    inet6 fe80::3432:a6ff:fe0f:ff6d/64 scope link \n",
      "       valid_lft forever preferred_lft forever\n",
      "\n",
      "Configuring IP 192.168.3.2 for s2\n",
      "3: ens7: <BROADCAST,MULTICAST,UP,LOWER_UP> mtu 1500 qdisc mq state UP group default qlen 1000\n",
      "    link/ether 36:e6:bd:87:65:ad brd ff:ff:ff:ff:ff:ff\n",
      "    inet 192.168.3.2/24 scope global ens7\n",
      "       valid_lft forever preferred_lft forever\n",
      "    inet6 fe80::34e6:bdff:fe87:65ad/64 scope link \n",
      "       valid_lft forever preferred_lft forever\n",
      "\n",
      "Configuring IP 192.168.1.1 for c1\n",
      "3: ens7: <BROADCAST,MULTICAST,UP,LOWER_UP> mtu 1500 qdisc mq state UP group default qlen 1000\n",
      "    link/ether 46:68:48:6b:e1:ec brd ff:ff:ff:ff:ff:ff\n",
      "    inet 192.168.1.1/24 scope global ens7\n",
      "       valid_lft forever preferred_lft forever\n",
      "    inet6 fe80::4468:48ff:fe6b:e1ec/64 scope link \n",
      "       valid_lft forever preferred_lft forever\n",
      "\n",
      "Configuring IP 192.168.2.1 for c2\n",
      "3: ens7: <BROADCAST,MULTICAST,UP,LOWER_UP> mtu 1500 qdisc mq state UP group default qlen 1000\n",
      "    link/ether 46:cb:bd:30:b5:42 brd ff:ff:ff:ff:ff:ff\n",
      "    inet 192.168.2.1/24 scope global ens7\n",
      "       valid_lft forever preferred_lft forever\n",
      "    inet6 fe80::44cb:bdff:fe30:b542/64 scope link \n",
      "       valid_lft forever preferred_lft forever\n",
      "\n"
     ]
    }
   ],
   "source": [
    "node = slice.get_node(\"s1\")\n",
    "iface = node.get_interface(network_name=\"net_lb_s1\") \n",
    "iface.ip_addr_add(addr=ip_s1, subnet=subnet3)\n",
    "print(\"Configuring IP {} for {}\".format(ip_s1, \"s1\"))\n",
    "stdout, stderr = node.execute(f'ip addr show {iface.get_os_interface()}')\n",
    "print (stdout)\n",
    "\n",
    "node = slice.get_node(\"s2\")\n",
    "iface = node.get_interface(network_name=\"net_lb_s2\") \n",
    "iface.ip_addr_add(addr=ip_s2, subnet=subnet3)\n",
    "print(\"Configuring IP {} for {}\".format(ip_s2, \"s2\"))\n",
    "stdout, stderr = node.execute(f'ip addr show {iface.get_os_interface()}')\n",
    "print (stdout)\n",
    "\n",
    "node = slice.get_node(\"c1\")\n",
    "iface = node.get_interface(network_name=\"net_r1_c1\") \n",
    "iface.ip_addr_add(addr=ip_c1, subnet=subnet1)\n",
    "print(\"Configuring IP {} for {}\".format(ip_c1, \"c1\"))\n",
    "stdout, stderr = node.execute(f'ip addr show {iface.get_os_interface()}')\n",
    "print (stdout)\n",
    "\n",
    "node = slice.get_node(\"c2\")\n",
    "iface = node.get_interface(network_name=\"net_r2_c2\") \n",
    "iface.ip_addr_add(addr=ip_c2, subnet=subnet2)\n",
    "print(\"Configuring IP {} for {}\".format(ip_c2, \"c2\"))\n",
    "stdout, stderr = node.execute(f'ip addr show {iface.get_os_interface()}')\n",
    "print (stdout)"
   ]
  },
  {
   "cell_type": "markdown",
   "id": "0c1ccc10-0607-4e76-8c3e-2e65769f43d8",
   "metadata": {},
   "source": [
    "# Set up LB interfaces"
   ]
  },
  {
   "cell_type": "code",
   "execution_count": 10,
   "id": "8be493d0-e15e-4ce5-882c-2cd36540db3b",
   "metadata": {},
   "outputs": [
    {
     "name": "stdout",
     "output_type": "stream",
     "text": [
      "Configuring IP 192.168.3.3 for s1\n",
      "5: ens9: <BROADCAST,MULTICAST,UP,LOWER_UP> mtu 1500 qdisc mq state UP group default qlen 1000\n",
      "    link/ether 32:87:50:f7:ae:6f brd ff:ff:ff:ff:ff:ff\n",
      "    inet 192.168.3.3/24 scope global ens9\n",
      "       valid_lft forever preferred_lft forever\n",
      "    inet6 fe80::3087:50ff:fef7:ae6f/64 scope link \n",
      "       valid_lft forever preferred_lft forever\n",
      "\n",
      "Configuring IP 192.168.3.4 for s2\n",
      "3: ens7: <BROADCAST,MULTICAST,UP,LOWER_UP> mtu 1500 qdisc mq state UP group default qlen 1000\n",
      "    link/ether 2e:c4:e0:e5:41:e6 brd ff:ff:ff:ff:ff:ff\n",
      "    inet 192.168.3.4/24 scope global ens7\n",
      "       valid_lft forever preferred_lft forever\n",
      "    inet6 fe80::2cc4:e0ff:fee5:41e6/64 scope link \n",
      "       valid_lft forever preferred_lft forever\n",
      "\n",
      "Configuring IP 192.168.3.5 for r1\n",
      "6: ens10: <BROADCAST,MULTICAST,UP,LOWER_UP> mtu 1500 qdisc mq state UP group default qlen 1000\n",
      "    link/ether 32:d6:1d:ec:de:30 brd ff:ff:ff:ff:ff:ff\n",
      "    inet 192.168.3.5/24 scope global ens10\n",
      "       valid_lft forever preferred_lft forever\n",
      "    inet6 fe80::30d6:1dff:feec:de30/64 scope link \n",
      "       valid_lft forever preferred_lft forever\n",
      "\n",
      "Configuring IP 192.168.3.6 for r2\n",
      "4: ens8: <BROADCAST,MULTICAST,UP,LOWER_UP> mtu 1500 qdisc mq state UP group default qlen 1000\n",
      "    link/ether 32:56:9f:d4:82:03 brd ff:ff:ff:ff:ff:ff\n",
      "    inet 192.168.3.6/24 scope global ens8\n",
      "       valid_lft forever preferred_lft forever\n",
      "    inet6 fe80::3056:9fff:fed4:8203/64 scope link \n",
      "       valid_lft forever preferred_lft forever\n",
      "\n"
     ]
    }
   ],
   "source": [
    "node = slice.get_node(\"lb\")\n",
    "iface = node.get_interface(network_name=\"net_lb_s1\") \n",
    "iface.ip_addr_add(addr=ip_lb_s1, subnet=subnet3)\n",
    "print(\"Configuring IP {} for {}\".format(ip_lb_s1, \"s1\"))\n",
    "stdout, stderr = node.execute(f'ip addr show {iface.get_os_interface()}')\n",
    "print (stdout)\n",
    "\n",
    "\n",
    "iface = node.get_interface(network_name=\"net_lb_s2\") \n",
    "iface.ip_addr_add(addr=ip_lb_s2, subnet=subnet3)\n",
    "print(\"Configuring IP {} for {}\".format(ip_lb_s2, \"s2\"))\n",
    "stdout, stderr = node.execute(f'ip addr show {iface.get_os_interface()}')\n",
    "print (stdout)\n",
    "\n",
    "\n",
    "iface = node.get_interface(network_name=\"net_lb_r1\") \n",
    "iface.ip_addr_add(addr=ip_lb_r1, subnet=subnet3)\n",
    "print(\"Configuring IP {} for {}\".format(ip_lb_r1, \"r1\"))\n",
    "stdout, stderr = node.execute(f'ip addr show {iface.get_os_interface()}')\n",
    "print (stdout)\n",
    "\n",
    "\n",
    "iface = node.get_interface(network_name=\"net_lb_r2\") \n",
    "iface.ip_addr_add(addr=ip_lb_r2, subnet=subnet3)\n",
    "print(\"Configuring IP {} for {}\".format(ip_lb_r2, \"r2\"))\n",
    "stdout, stderr = node.execute(f'ip addr show {iface.get_os_interface()}')\n",
    "print (stdout)"
   ]
  },
  {
   "cell_type": "code",
   "execution_count": 11,
   "id": "e9ffa4fc-39d9-4cb3-bbfa-a31bdb87beba",
   "metadata": {},
   "outputs": [
    {
     "name": "stdout",
     "output_type": "stream",
     "text": [
      "-----------------  ---------------------------------------------------------------------------------------------------------------------------\n",
      "ID                 099ea005-bd52-4cd1-90f9-33709bfe39ff\n",
      "Name               lb\n",
      "Cores              1\n",
      "RAM                4\n",
      "Disk               100\n",
      "Image              default_ubuntu_20\n",
      "Image Type         qcow2\n",
      "Host               ucsd-w2.fabric-testbed.net\n",
      "Site               UCSD\n",
      "Management IP      132.249.252.148\n",
      "Reservation State  Active\n",
      "Error Message\n",
      "SSH Command        ssh -i /home/fabric/work/fabric_config/slice_key -J cvankaya_0000027070@bastion-1.fabric-testbed.net ubuntu@132.249.252.148\n",
      "-----------------  ---------------------------------------------------------------------------------------------------------------------------\n",
      "-----------------  ---------------------------------------------------------------------------------------------------------------------------\n",
      "ID                 406c2b9b-8769-4dbd-9467-113a7fe64a48\n",
      "Name               s1\n",
      "Cores              1\n",
      "RAM                4\n",
      "Disk               100\n",
      "Image              default_ubuntu_20\n",
      "Image Type         qcow2\n",
      "Host               ucsd-w2.fabric-testbed.net\n",
      "Site               UCSD\n",
      "Management IP      132.249.252.154\n",
      "Reservation State  Active\n",
      "Error Message\n",
      "SSH Command        ssh -i /home/fabric/work/fabric_config/slice_key -J cvankaya_0000027070@bastion-1.fabric-testbed.net ubuntu@132.249.252.154\n",
      "-----------------  ---------------------------------------------------------------------------------------------------------------------------\n",
      "-----------------  ---------------------------------------------------------------------------------------------------------------------------\n",
      "ID                 0b8a4162-7f33-4f77-b111-1dcccc31aa5a\n",
      "Name               s2\n",
      "Cores              1\n",
      "RAM                4\n",
      "Disk               100\n",
      "Image              default_ubuntu_20\n",
      "Image Type         qcow2\n",
      "Host               ucsd-w2.fabric-testbed.net\n",
      "Site               UCSD\n",
      "Management IP      132.249.252.151\n",
      "Reservation State  Active\n",
      "Error Message\n",
      "SSH Command        ssh -i /home/fabric/work/fabric_config/slice_key -J cvankaya_0000027070@bastion-1.fabric-testbed.net ubuntu@132.249.252.151\n",
      "-----------------  ---------------------------------------------------------------------------------------------------------------------------\n",
      "-----------------  ---------------------------------------------------------------------------------------------------------------------------\n",
      "ID                 448e02d9-b869-4f26-a23b-7749789fffbb\n",
      "Name               r1\n",
      "Cores              1\n",
      "RAM                4\n",
      "Disk               100\n",
      "Image              default_ubuntu_20\n",
      "Image Type         qcow2\n",
      "Host               ucsd-w2.fabric-testbed.net\n",
      "Site               UCSD\n",
      "Management IP      132.249.252.189\n",
      "Reservation State  Active\n",
      "Error Message\n",
      "SSH Command        ssh -i /home/fabric/work/fabric_config/slice_key -J cvankaya_0000027070@bastion-1.fabric-testbed.net ubuntu@132.249.252.189\n",
      "-----------------  ---------------------------------------------------------------------------------------------------------------------------\n",
      "-----------------  ---------------------------------------------------------------------------------------------------------------------------\n",
      "ID                 82420aba-f9d9-420f-83b7-4c072fd9131c\n",
      "Name               r2\n",
      "Cores              1\n",
      "RAM                4\n",
      "Disk               100\n",
      "Image              default_ubuntu_20\n",
      "Image Type         qcow2\n",
      "Host               ucsd-w2.fabric-testbed.net\n",
      "Site               UCSD\n",
      "Management IP      132.249.252.153\n",
      "Reservation State  Active\n",
      "Error Message\n",
      "SSH Command        ssh -i /home/fabric/work/fabric_config/slice_key -J cvankaya_0000027070@bastion-1.fabric-testbed.net ubuntu@132.249.252.153\n",
      "-----------------  ---------------------------------------------------------------------------------------------------------------------------\n",
      "-----------------  ---------------------------------------------------------------------------------------------------------------------------\n",
      "ID                 13476cfe-63a7-4a21-bb37-11c0975fdf3e\n",
      "Name               c1\n",
      "Cores              1\n",
      "RAM                4\n",
      "Disk               100\n",
      "Image              default_ubuntu_20\n",
      "Image Type         qcow2\n",
      "Host               ucsd-w2.fabric-testbed.net\n",
      "Site               UCSD\n",
      "Management IP      132.249.252.176\n",
      "Reservation State  Active\n",
      "Error Message\n",
      "SSH Command        ssh -i /home/fabric/work/fabric_config/slice_key -J cvankaya_0000027070@bastion-1.fabric-testbed.net ubuntu@132.249.252.176\n",
      "-----------------  ---------------------------------------------------------------------------------------------------------------------------\n",
      "-----------------  ---------------------------------------------------------------------------------------------------------------------------\n",
      "ID                 ce7a6c74-0f4e-4b70-a2c5-954338157542\n",
      "Name               c2\n",
      "Cores              1\n",
      "RAM                4\n",
      "Disk               100\n",
      "Image              default_ubuntu_20\n",
      "Image Type         qcow2\n",
      "Host               ucsd-w2.fabric-testbed.net\n",
      "Site               UCSD\n",
      "Management IP      132.249.252.147\n",
      "Reservation State  Active\n",
      "Error Message\n",
      "SSH Command        ssh -i /home/fabric/work/fabric_config/slice_key -J cvankaya_0000027070@bastion-1.fabric-testbed.net ubuntu@132.249.252.147\n",
      "-----------------  ---------------------------------------------------------------------------------------------------------------------------\n"
     ]
    }
   ],
   "source": [
    "try:\n",
    "    slice = fablib.get_slice(name=SLICE_NAME)\n",
    "    for node in slice.get_nodes():\n",
    "        print(f\"{node}\")\n",
    "except Exception as e:\n",
    "    print(f\"Exception: {e}\")"
   ]
  },
  {
   "cell_type": "code",
   "execution_count": 12,
   "id": "93ad0034-8287-4abb-92a4-9f00f99c941a",
   "metadata": {},
   "outputs": [
    {
     "data": {
      "text/plain": [
       "<SFTPAttributes: [ size=2727 uid=1000 gid=1000 mode=0o100664 atime=1669703193 mtime=1669703194 ]>"
      ]
     },
     "execution_count": 12,
     "metadata": {},
     "output_type": "execute_result"
    }
   ],
   "source": [
    "node = slice.get_node(\"r1\")\n",
    "node.upload_file('./p4_setup.sh', '/home/ubuntu/p4_setup.sh')\n",
    "node.upload_file('./simple_router.p4', '/home/ubuntu/simple_router.p4')"
   ]
  },
  {
   "cell_type": "code",
   "execution_count": 13,
   "id": "c8520c7a-795e-49de-bea2-77994ac335fc",
   "metadata": {},
   "outputs": [
    {
     "data": {
      "text/plain": [
       "<SFTPAttributes: [ size=2727 uid=1000 gid=1000 mode=0o100664 atime=1669703199 mtime=1669703200 ]>"
      ]
     },
     "execution_count": 13,
     "metadata": {},
     "output_type": "execute_result"
    }
   ],
   "source": [
    "node = slice.get_node(\"r2\")\n",
    "node.upload_file('./p4_setup.sh', '/home/ubuntu/p4_setup.sh')\n",
    "node.upload_file('./simple_router.p4', '/home/ubuntu/simple_router.p4')"
   ]
  },
  {
   "cell_type": "code",
   "execution_count": 21,
   "id": "4a53bde5-9847-4f18-a569-b2101a18b54c",
   "metadata": {},
   "outputs": [],
   "source": [
    "# Add routes"
   ]
  },
  {
   "cell_type": "code",
   "execution_count": 15,
   "id": "4ed0471d-a9d1-4ae1-8089-81b98c8d1ec2",
   "metadata": {},
   "outputs": [],
   "source": [
    "try:\n",
    "    slice = fablib.get_slice(name=SLICE_NAME)\n",
    "    slice.delete()\n",
    "except Exception as e:\n",
    "    print(f\"Fail: {e}\")\n",
    "    traceback.print_exc()"
   ]
  },
  {
   "cell_type": "code",
   "execution_count": null,
   "id": "def0d47f-4786-493e-9939-0073ccccc1a9",
   "metadata": {},
   "outputs": [],
   "source": []
  }
 ],
 "metadata": {
  "kernelspec": {
   "display_name": "Python 3 (ipykernel)",
   "language": "python",
   "name": "python3"
  },
  "language_info": {
   "codemirror_mode": {
    "name": "ipython",
    "version": 3
   },
   "file_extension": ".py",
   "mimetype": "text/x-python",
   "name": "python",
   "nbconvert_exporter": "python",
   "pygments_lexer": "ipython3",
   "version": "3.9.7"
  }
 },
 "nbformat": 4,
 "nbformat_minor": 5
}
