{
 "cells": [
  {
   "cell_type": "code",
   "execution_count": 2,
   "id": "779d9d15-ce7e-44b1-986f-24dca8dba63c",
   "metadata": {},
   "outputs": [],
   "source": [
    "import os\n",
    "\n",
    "# If you are using the FABRIC JupyterHub, the following three evnrionment vars\n",
    "# were automatically provided when you logged in.\n",
    "#os.environ['FABRIC_CREDMGR_HOST']='cm.fabric-testbed.net'\n",
    "#os.environ['FABRIC_ORCHESTRATOR_HOST']='orchestrator.fabric-testbed.net'\n",
    "#os.environ['FABRIC_TOKEN_LOCATION']=os.environ['HOME']+'/work/fabric_token.json'\n",
    "\n",
    "# Set your FABRIC PROJECT ID\n",
    "os.environ['FABRIC_PROJECT_ID']='' #Project ID\n",
    "\n",
    "# Bastion IPs\n",
    "os.environ['FABRIC_BASTION_HOST'] = 'bastion-1.fabric-testbed.net'\n",
    "\n",
    "# Set your Bastion username and private key\n",
    "os.environ['FABRIC_BASTION_USERNAME']=''\n",
    "os.environ['FABRIC_BASTION_KEY_LOCATION']=os.environ['HOME']+''\n",
    "\n",
    "# Set the keypair FABRIC will install in your slice. \n",
    "os.environ['FABRIC_SLICE_PRIVATE_KEY_FILE']=os.environ['HOME']+'/.ssh/id_rsa'\n",
    "os.environ['FABRIC_SLICE_PUBLIC_KEY_FILE']=os.environ['HOME']+'/.ssh/id_rsa.pub'\n",
    "\n",
    "# If your slice private key uses a passphrase, set the passphrase\n",
    "#from getpass import getpass\n",
    "#print('Please input private key passphrase. Press enter for no passphrase.')\n",
    "#os.environ['FABRIC_SLICE_PRIVATE_KEY_PASSPHRASE']=getpass()"
   ]
  },
  {
   "cell_type": "code",
   "execution_count": 2,
   "id": "e9cd8286-ecfe-4af7-93e0-b298e7c01008",
   "metadata": {},
   "outputs": [],
   "source": [
    "import json\n",
    "import traceback\n",
    "\n",
    "from fabrictestbed_extensions.fablib.fablib import fablib"
   ]
  },
  {
   "cell_type": "code",
   "execution_count": 3,
   "id": "39ffdf2e-c911-4fb9-b110-dd6f9bb9e681",
   "metadata": {},
   "outputs": [
    {
     "name": "stdout",
     "output_type": "stream",
     "text": [
      "['server_0', 'server_1', 'server_2']\n"
     ]
    }
   ],
   "source": [
    "SLICE_NAME = 'nginx-lb-slice'\n",
    "SITE=\"UCSD\"\n",
    "NUM_SERVERS = 3\n",
    "\n",
    "# We will use Ubuntu 20.04 for both nodes\n",
    "IMAGE = 'default_ubuntu_20'\n",
    "CORES = 1\n",
    "RAM = 2\n",
    "server_names = [\"server_{}\".format(i) for i in range(NUM_SERVERS)]\n",
    "print(server_names)"
   ]
  },
  {
   "cell_type": "markdown",
   "id": "eb0c23ae-db92-42f9-a12c-73b767c1aa53",
   "metadata": {},
   "source": [
    "# Download data files from the client"
   ]
  },
  {
   "cell_type": "code",
   "execution_count": 5,
   "id": "09270001-52b0-446f-bbce-fb85c86c12f3",
   "metadata": {},
   "outputs": [
    {
     "name": "stdout",
     "output_type": "stream",
     "text": [
      "-----------------  ---------------------------------------------------------------------------------------------------------------------------\n",
      "ID                 b98de84a-e110-4863-9138-b2ec49af87ab\n",
      "Name               ngnix_lb\n",
      "Cores              1\n",
      "RAM                2\n",
      "Disk               10\n",
      "Image              default_ubuntu_20\n",
      "Image Type         qcow2\n",
      "Host               ucsd-w2.fabric-testbed.net\n",
      "Site               UCSD\n",
      "Management IP      132.249.252.173\n",
      "Reservation State  Active\n",
      "Error Message\n",
      "SSH Command        ssh -i /home/fabric/work/fabric_config/slice_key -J cvankaya_0000027070@bastion-1.fabric-testbed.net ubuntu@132.249.252.173\n",
      "-----------------  ---------------------------------------------------------------------------------------------------------------------------\n",
      "-----------------  ---------------------------------------------------------------------------------------------------------------------------\n",
      "ID                 17255a86-dcbf-48b6-bea7-d4be7b57285b\n",
      "Name               server_0\n",
      "Cores              1\n",
      "RAM                2\n",
      "Disk               10\n",
      "Image              default_ubuntu_20\n",
      "Image Type         qcow2\n",
      "Host               ucsd-w2.fabric-testbed.net\n",
      "Site               UCSD\n",
      "Management IP      132.249.252.151\n",
      "Reservation State  Active\n",
      "Error Message\n",
      "SSH Command        ssh -i /home/fabric/work/fabric_config/slice_key -J cvankaya_0000027070@bastion-1.fabric-testbed.net ubuntu@132.249.252.151\n",
      "-----------------  ---------------------------------------------------------------------------------------------------------------------------\n",
      "-----------------  ---------------------------------------------------------------------------------------------------------------------------\n",
      "ID                 680b2477-ca20-48b3-9653-c31b51923c11\n",
      "Name               server_1\n",
      "Cores              1\n",
      "RAM                2\n",
      "Disk               10\n",
      "Image              default_ubuntu_20\n",
      "Image Type         qcow2\n",
      "Host               ucsd-w2.fabric-testbed.net\n",
      "Site               UCSD\n",
      "Management IP      132.249.252.152\n",
      "Reservation State  Active\n",
      "Error Message\n",
      "SSH Command        ssh -i /home/fabric/work/fabric_config/slice_key -J cvankaya_0000027070@bastion-1.fabric-testbed.net ubuntu@132.249.252.152\n",
      "-----------------  ---------------------------------------------------------------------------------------------------------------------------\n",
      "-----------------  ---------------------------------------------------------------------------------------------------------------------------\n",
      "ID                 0d81e97d-4f13-44df-bf4a-ec462db449ab\n",
      "Name               server_2\n",
      "Cores              1\n",
      "RAM                2\n",
      "Disk               10\n",
      "Image              default_ubuntu_20\n",
      "Image Type         qcow2\n",
      "Host               ucsd-w2.fabric-testbed.net\n",
      "Site               UCSD\n",
      "Management IP      132.249.252.159\n",
      "Reservation State  Active\n",
      "Error Message\n",
      "SSH Command        ssh -i /home/fabric/work/fabric_config/slice_key -J cvankaya_0000027070@bastion-1.fabric-testbed.net ubuntu@132.249.252.159\n",
      "-----------------  ---------------------------------------------------------------------------------------------------------------------------\n",
      "-----------------  ---------------------------------------------------------------------------------------------------------------------------\n",
      "ID                 f91b1fb7-2f94-49c9-a31a-43a73e30c361\n",
      "Name               client\n",
      "Cores              2\n",
      "RAM                8\n",
      "Disk               10\n",
      "Image              default_ubuntu_20\n",
      "Image Type         qcow2\n",
      "Host               ucsd-w2.fabric-testbed.net\n",
      "Site               UCSD\n",
      "Management IP      132.249.252.180\n",
      "Reservation State  Active\n",
      "Error Message\n",
      "SSH Command        ssh -i /home/fabric/work/fabric_config/slice_key -J cvankaya_0000027070@bastion-1.fabric-testbed.net ubuntu@132.249.252.180\n",
      "-----------------  ---------------------------------------------------------------------------------------------------------------------------\n"
     ]
    }
   ],
   "source": [
    "try:\n",
    "    slice = fablib.get_slice(name=SLICE_NAME)\n",
    "    for node in slice.get_nodes():\n",
    "        print(f\"{node}\")\n",
    "except Exception as e:\n",
    "    print(f\"Exception: {e}\")"
   ]
  },
  {
   "cell_type": "code",
   "execution_count": 11,
   "id": "b02494b8-75a3-4704-afe4-fb77379a08bb",
   "metadata": {},
   "outputs": [],
   "source": [
    "slice.get_node(\"client\").download_file(\"/home/fabric/work/project/data_random.json\", \"/home/ubuntu/data_random.json\")"
   ]
  },
  {
   "cell_type": "code",
   "execution_count": 21,
   "id": "b38bf8f9-fcd0-461a-9503-cd562becdd1c",
   "metadata": {},
   "outputs": [],
   "source": [
    "import json"
   ]
  },
  {
   "cell_type": "code",
   "execution_count": 2,
   "id": "b12db2e3-9785-44ee-ab12-82d5a5102771",
   "metadata": {},
   "outputs": [
    {
     "data": {
      "image/png": "[encoded data removed]",
      "text/plain": [
       "<Figure size 432x288 with 1 Axes>"
      ]
     },
     "metadata": {
      "needs_background": "light"
     },
     "output_type": "display_data"
    }
   ],
   "source": [
    "import numpy as np\n",
    "import matplotlib.pyplot as plt\n",
    "  \n",
    "N = 3\n",
    "ind = np.arange(N) \n",
    "width = 0.25\n",
    "  \n",
    "xvals = [50, 40, 48]\n",
    "bar1 = plt.bar(ind, xvals, width, color = '#B9B7BD')\n",
    "  \n",
    "yvals = [50, 60, 52]\n",
    "bar2 = plt.bar(ind+width, yvals, width, color='#868B8E')\n",
    "  \n",
    "plt.xlabel(\"Load Balancing Algorithm\")\n",
    "plt.ylabel('Requests')\n",
    "plt.title(\"No. of requests processed by each server\")\n",
    "  \n",
    "plt.xticks(ind+width,['Round Robin', 'Weighted Round Robin', 'Random'])\n",
    "plt.legend( (bar1, bar2), ('Server 0', 'Server 1') )\n",
    "plt.savefig('requests.png')\n",
    "plt.show()"
   ]
  },
  {
   "cell_type": "code",
   "execution_count": 26,
   "id": "8e26bfb7-0f31-472d-bb3b-ebcfe95782f7",
   "metadata": {},
   "outputs": [
    {
     "data": {
      "image/png": "[encoded data removed]",
      "text/plain": [
       "<Figure size 432x288 with 1 Axes>"
      ]
     },
     "metadata": {
      "needs_background": "light"
     },
     "output_type": "display_data"
    }
   ],
   "source": [
    "import numpy as np\n",
    "import matplotlib.pyplot as plt\n",
    "  \n",
    "N = 3\n",
    "ind = np.arange(N) \n",
    "width = 0.25\n",
    "  \n",
    "xvals = [8.042, 8.253, 7.912]\n",
    "\n",
    "bar1 = plt.bar(ind, xvals, width, color = '#6497b1')\n",
    "  \n",
    "#6497b1\n",
    "yvals = [7.342, 7.764, 7.205]\n",
    "bar2 = plt.bar(ind+width, yvals, width, color='#03396c')\n",
    "  \n",
    "plt.xlabel(\"Load Balancing Algorithm\")\n",
    "plt.ylabel('Total time (in s)')\n",
    "plt.title(\"Nginx (FABRIC) vs P4 (Mininet) processing 10,000 requests\")\n",
    "  \n",
    "plt.xticks(ind+width,['Round Robin', 'Weighted Round Robin', 'Random'])\n",
    "plt.legend( (bar1, bar2), ('Nginx', 'P4') )\n",
    "plt.savefig('requests.png')\n",
    "plt.show()"
   ]
  },
  {
   "cell_type": "code",
   "execution_count": 11,
   "id": "84a62b2e-4dae-4501-8206-cbad39bc7a3d",
   "metadata": {},
   "outputs": [
    {
     "data": {
      "image/png": "[encoded data removed]",
      "text/plain": [
       "<Figure size 432x288 with 1 Axes>"
      ]
     },
     "metadata": {},
     "output_type": "display_data"
    }
   ],
   "source": [
    "import numpy as np\n",
    "import matplotlib.pyplot as plt\n",
    "\n",
    "# Creating dataset\n",
    "x = [\"Round Robin\", \"Weighted Round Robin\", \"Random\"]\n",
    "dataset_1 = [8.042, 8.253, 7.912]\n",
    "dataset_2 = [5 , 10, 4]\n",
    "\n",
    "# Creating plot with dataset_1\n",
    "fig, ax1 = plt.subplots()\n",
    "\n",
    "color = '#6497b1'\n",
    "\n",
    "ax1.set_xlabel('Load balancing algorithm')\n",
    "ax1.set_ylabel('Longest request time (in ms)', color = color)\n",
    "bar1 = plt.bar(ind, dataset_2, width, color = color)\n",
    "ax1.tick_params(axis ='y', labelcolor = color)"
   ]
  },
  {
   "cell_type": "code",
   "execution_count": null,
   "id": "cdb16b0e-9f95-41db-ac75-d242f2b43f22",
   "metadata": {},
   "outputs": [],
   "source": [
    "# Adding Twin Axes to plot using dataset_2\n",
    "ax2 = ax1.twinx()\n",
    "\n",
    "color = '#03396c'\n",
    "ax2.set_ylabel('Total time (in sec)', color = color)\n",
    "ax2.plot(x, dataset_1, color = color)\n",
    "ax2.tick_params(axis ='y', labelcolor = color)\n",
    "\n",
    "# Adding title\n",
    "plt.title('Performance of the Nginx load balancer serving 10,000 requests', fontweight =\"bold\")\n",
    "\n",
    "# Show plot\n",
    "plt.show()\n"
   ]
  }
 ],
 "metadata": {
  "kernelspec": {
   "display_name": "Python 3 (ipykernel)",
   "language": "python",
   "name": "python3"
  },
  "language_info": {
   "codemirror_mode": {
    "name": "ipython",
    "version": 3
   },
   "file_extension": ".py",
   "mimetype": "text/x-python",
   "name": "python",
   "nbconvert_exporter": "python",
   "pygments_lexer": "ipython3",
   "version": "3.9.7"
  }
 },
 "nbformat": 4,
 "nbformat_minor": 5
}
