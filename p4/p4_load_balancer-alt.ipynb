{
 "cells": [
  {
   "cell_type": "code",
   "execution_count": 21,
   "id": "18a94f9b-f720-444a-bee5-8bde6cbbafa9",
   "metadata": {},
   "outputs": [],
   "source": [
    "import os\n",
    "\n",
    "# If you are using the FABRIC JupyterHub, the following three evnrionment vars\n",
    "# were automatically provided when you logged in.\n",
    "#os.environ['FABRIC_CREDMGR_HOST']='cm.fabric-testbed.net'\n",
    "#os.environ['FABRIC_ORCHESTRATOR_HOST']='orchestrator.fabric-testbed.net'\n",
    "#os.environ['FABRIC_TOKEN_LOCATION']=os.environ['HOME']+'/work/fabric_token.json'\n",
    "\n",
    "# Set your FABRIC PROJECT ID\n",
    "os.environ['FABRIC_PROJECT_ID']='6ce270de-788d-4e07-8bae-3206860a6387'\n",
    "\n",
    "# Bastion IPs\n",
    "os.environ['FABRIC_BASTION_HOST'] = 'bastion-1.fabric-testbed.net'\n",
    "\n",
    "# Set your Bastion username and private key\n",
    "os.environ['FABRIC_BASTION_USERNAME']='cvankaya_0000027070'\n",
    "os.environ['FABRIC_BASTION_KEY_LOCATION']=os.environ['HOME']+'/work/fabric_config/bastion-key-cvankaya'\n",
    "\n",
    "# Set the keypair FABRIC will install in your slice. \n",
    "os.environ['FABRIC_SLICE_PRIVATE_KEY_FILE']=os.environ['HOME']+'/.ssh/id_rsa'\n",
    "os.environ['FABRIC_SLICE_PUBLIC_KEY_FILE']=os.environ['HOME']+'/.ssh/id_rsa.pub'\n",
    "\n",
    "# If your slice private key uses a passphrase, set the passphrase\n",
    "#from getpass import getpass\n",
    "#print('Please input private key passphrase. Press enter for no passphrase.')\n",
    "#os.environ['FABRIC_SLICE_PRIVATE_KEY_PASSPHRASE']=getpass()"
   ]
  },
  {
   "cell_type": "code",
   "execution_count": 22,
   "id": "849fda00-3429-4bd7-b18d-f5aaf80c69c9",
   "metadata": {},
   "outputs": [],
   "source": [
    "import json\n",
    "import traceback\n",
    "\n",
    "from fabrictestbed_extensions.fablib.fablib import fablib"
   ]
  },
  {
   "cell_type": "code",
   "execution_count": 23,
   "id": "0ebbb75f-3dc4-49a7-b5c8-1fa226d7f36b",
   "metadata": {},
   "outputs": [],
   "source": [
    "SLICE_NAME = 'p4-lb-2'\n",
    "\n",
    "# We will use Ubuntu 20.04 for both nodes\n",
    "IMAGE = 'default_ubuntu_20'\n",
    "CORES = 1\n",
    "RAM = 2\n",
    "DISK_R = 50\n",
    "DISK_H = 20\n",
    "SITE=\"UCSD\"\n",
    "\n",
    "routers = {\"r1\":{}, \"r2\":{}}\n",
    "lb = \"lb\"\n",
    "clients = {\"c1\":{}, \"c2\":{}}\n",
    "servers = {\"s1\":{}, \"s2\":{}}"
   ]
  },
  {
   "cell_type": "code",
   "execution_count": 9,
   "id": "957cfea7-6626-470d-b900-d29c3a5a1dc5",
   "metadata": {},
   "outputs": [],
   "source": [
    "import datetime\n",
    "from datetime import timedelta\n",
    "\n",
    "#Create Slice\n",
    "slice = fablib.new_slice(name=SLICE_NAME)\n",
    "now = datetime.datetime.now(datetime.timezone.utc)\n",
    "end_date = (now + timedelta(days=6)).strftime(\"%Y-%m-%d %H:%M:%S %z\")\n",
    "#slice.renew(end_date)\n",
    "\n",
    "#Create Nodes\n",
    "#LB Node\n",
    "lb_node = slice.add_node(name=\"lb\", site=SITE, cores=CORES, ram=RAM, image=IMAGE, disk=DISK_R)\n",
    "\n",
    "#Server Nodes\n",
    "for s in servers.keys():\n",
    "    servers[s][\"node\"] = slice.add_node(name = s, site=SITE, cores=CORES, ram=RAM, image=IMAGE, disk=DISK_H)\n",
    "\n",
    "#Router Nodes\n",
    "for r in routers.keys():\n",
    "    routers[r][\"node\"] = slice.add_node(name = r, site=SITE, cores=CORES, ram=RAM, image=IMAGE, disk=DISK_R)\n",
    "\n",
    "#Client Nodes\n",
    "for c in clients.keys():\n",
    "    clients[c][\"node\"] = slice.add_node(name = c, site=SITE, cores=CORES, ram=RAM, image=IMAGE, disk=DISK_H)\n",
    "\n",
    "#Create Network\n",
    "#LB-Servers\n",
    "for s, v in servers.items():\n",
    "    lb_iface = lb_node.add_component(model='NIC_Basic', name=\"if_{}\".format(s)).get_interfaces()[0]\n",
    "    s_iface = v[\"node\"].add_component(model='NIC_Basic', name=\"if\").get_interfaces()[0]\n",
    "    net = slice.add_l2network(name=\"net_lb_{}\".format(s), interfaces=[lb_iface, s_iface])\n",
    "\n",
    "#LB-Routers\n",
    "for r, v in routers.items():\n",
    "    lb_iface = lb_node.add_component(model='NIC_Basic', name=\"if_{}\".format(r)).get_interfaces()[0]\n",
    "    r_iface = v[\"node\"].add_component(model='NIC_Basic', name=\"if_lb\").get_interfaces()[0]\n",
    "    net = slice.add_l2network(name=\"net_lb_{}\".format(r), interfaces=[lb_iface, r_iface])\n",
    "\n",
    "#Todo Router-Router\n",
    "\n",
    "#Routers-Clients\n",
    "for r, c in zip(routers.keys(), clients.keys()):\n",
    "    r_iface = routers[r][\"node\"].add_component(model='NIC_Basic', name=\"if_c\").get_interfaces()[0]\n",
    "    c_iface = clients[c][\"node\"].add_component(model='NIC_Basic', name=\"if\").get_interfaces()[0]\n",
    "    net = slice.add_l2network(name=\"net_{}_{}\".format(r,c), interfaces=[r_iface, c_iface])"
   ]
  },
  {
   "cell_type": "code",
   "execution_count": 10,
   "id": "eebe520e-1915-45d9-8d0d-bdcc8c9fed4d",
   "metadata": {},
   "outputs": [
    {
     "name": "stdout",
     "output_type": "stream",
     "text": [
      "\n",
      "-----------  ------------------------------------\n",
      "Slice Name   p4-lb-2\n",
      "Slice ID     42aa5d35-08de-4391-a8a8-37e3d2247438\n",
      "Slice State  StableOK\n",
      "Lease End    2022-11-30 09:49:57 +0000\n",
      "-----------  ------------------------------------\n",
      "\n",
      "Retry: 12, Time: 239 sec\n",
      "\n",
      "ID                                    Name    Site    Host                          Cores    RAM    Disk  Image              Management IP    State    Error\n",
      "------------------------------------  ------  ------  --------------------------  -------  -----  ------  -----------------  ---------------  -------  -------\n",
      "a9ef9188-2209-446d-b268-d169ff43f08c  lb      UCSD    ucsd-w2.fabric-testbed.net        1      4     100  default_ubuntu_20  132.249.252.161  Active\n",
      "17c5ec12-81a6-40dd-9e3e-e82d8ea91a0c  s1      UCSD    ucsd-w2.fabric-testbed.net        1      4     100  default_ubuntu_20  132.249.252.142  Active\n",
      "c8a85ecd-e7ec-4cea-963e-75a3c0792a24  s2      UCSD    ucsd-w2.fabric-testbed.net        1      4     100  default_ubuntu_20  132.249.252.183  Active\n",
      "1db39349-3e69-4e89-8bbd-237ff59c4d51  r1      UCSD    ucsd-w2.fabric-testbed.net        1      4     100  default_ubuntu_20  132.249.252.172  Active\n",
      "a8aac996-c934-454e-a49e-1836894398c6  r2      UCSD    ucsd-w2.fabric-testbed.net        1      4     100  default_ubuntu_20  132.249.252.187  Active\n",
      "98e6b958-ff18-4f5c-a228-f1368a853918  c1      UCSD    ucsd-w2.fabric-testbed.net        1      4     100  default_ubuntu_20  132.249.252.174  Active\n",
      "416b0340-20d3-482d-b9b2-2c6dd15f3b17  c2      UCSD    ucsd-w2.fabric-testbed.net        1      4     100  default_ubuntu_20  132.249.252.139  Active\n",
      "\n",
      "Time to stable 239 seconds\n",
      "Running post_boot_config ... Time to post boot config 278 seconds\n",
      "\n",
      "Name         Node    Network      Bandwidth  VLAN    MAC                Physical OS Interface    OS Interface\n",
      "-----------  ------  ---------  -----------  ------  -----------------  -----------------------  --------------\n",
      "lb-if_r2-p1  lb      net_lb_r2            0          4E:04:68:47:78:A0  ens7                     ens7\n",
      "lb-if_s2-p1  lb      net_lb_s2            0          52:69:D2:28:5A:F2  ens9                     ens9\n",
      "lb-if_r1-p1  lb      net_lb_r1            0          4E:3F:AA:C7:65:E4  ens8                     ens8\n",
      "lb-if_s1-p1  lb      net_lb_s1            0          52:89:11:C8:D7:4E  ens10                    ens10\n",
      "s1-if-p1     s1      net_lb_s1            0          56:21:F2:62:91:EA  ens7                     ens7\n",
      "s2-if-p1     s2      net_lb_s2            0          56:74:B4:68:66:DC  ens7                     ens7\n",
      "r1-if_lb-p1  r1      net_lb_r1            0          1E:C2:9A:90:9D:8D  ens7                     ens7\n",
      "r1-if_c-p1   r1      net_r1_c1            0          5A:2A:6D:F6:9E:5D  ens8                     ens8\n",
      "r2-if_lb-p1  r2      net_lb_r2            0          5E:47:E2:4E:BE:DB  ens7                     ens7\n",
      "r2-if_c-p1   r2      net_r2_c2            0          5E:D9:9B:84:17:39  ens8                     ens8\n",
      "c1-if-p1     c1      net_r1_c1            0          2E:A1:B4:FF:EE:4C  ens7                     ens7\n",
      "c2-if-p1     c2      net_r2_c2            0          5E:DF:BF:97:F5:09  ens7                     ens7\n",
      "\n",
      "Time to print interfaces 319 seconds\n"
     ]
    },
    {
     "data": {
      "text/plain": [
       "'42aa5d35-08de-4391-a8a8-37e3d2247438'"
      ]
     },
     "execution_count": 10,
     "metadata": {},
     "output_type": "execute_result"
    }
   ],
   "source": [
    "#Submit Slice Request\n",
    "slice.submit()"
   ]
  },
  {
   "cell_type": "code",
   "execution_count": null,
   "id": "158a5c2f-293c-48e7-adc3-1dd18a78b4aa",
   "metadata": {},
   "outputs": [],
   "source": []
  },
  {
   "cell_type": "code",
   "execution_count": 11,
   "id": "bc8f3c16-444b-4c2a-a666-e8f91257909e",
   "metadata": {},
   "outputs": [],
   "source": [
    "now = datetime.datetime.now(datetime.timezone.utc)\n",
    "end_date = (now + timedelta(days=14)).strftime(\"%Y-%m-%d %H:%M:%S %z\")\n",
    "slice.renew(end_date)"
   ]
  },
  {
   "cell_type": "code",
   "execution_count": 12,
   "id": "06dbe875-96d4-4a56-a604-f5a7254123b2",
   "metadata": {},
   "outputs": [],
   "source": [
    "#Create Subnets\n",
    "from ipaddress import ip_address, IPv4Address, IPv6Address, IPv4Network, IPv6Network\n",
    "\n",
    "try:\n",
    "    subnet1 = IPv4Network(\"192.168.1.0/24\")\n",
    "    ip_c1 = IPv4Address(\"192.168.1.1\")\n",
    "    \n",
    "    subnet2 = IPv4Network(\"192.168.2.0/24\")\n",
    "    ip_c2 = IPv4Address(\"192.168.2.1\")\n",
    "    \n",
    "    subnet3 = IPv4Network(\"192.168.3.0/24\")\n",
    "    ip_s1 = IPv4Address(\"192.168.3.1\")\n",
    "    ip_s2 = IPv4Address(\"192.168.3.2\")\n",
    "except Exception as e:\n",
    "    print(f\"Exception: {e}\")"
   ]
  },
  {
   "cell_type": "markdown",
   "id": "1b8af253-daa4-4be3-b8f2-9772d02689dc",
   "metadata": {},
   "source": [
    "# Configure clients and servers"
   ]
  },
  {
   "cell_type": "code",
   "execution_count": 13,
   "id": "27f8451d-86ef-4e83-b133-b4d1f35c3a00",
   "metadata": {},
   "outputs": [
    {
     "name": "stdout",
     "output_type": "stream",
     "text": [
      "Configuring IP 192.168.3.1 for s1\n",
      "3: ens7: <BROADCAST,MULTICAST,UP,LOWER_UP> mtu 1500 qdisc mq state UP group default qlen 1000\n",
      "    link/ether 56:21:f2:62:91:ea brd ff:ff:ff:ff:ff:ff\n",
      "    inet 192.168.3.1/24 scope global ens7\n",
      "       valid_lft forever preferred_lft forever\n",
      "    inet6 fe80::5421:f2ff:fe62:91ea/64 scope link \n",
      "       valid_lft forever preferred_lft forever\n",
      "\n",
      "Configuring IP 192.168.3.2 for s2\n",
      "3: ens7: <BROADCAST,MULTICAST,UP,LOWER_UP> mtu 1500 qdisc mq state UP group default qlen 1000\n",
      "    link/ether 56:74:b4:68:66:dc brd ff:ff:ff:ff:ff:ff\n",
      "    inet 192.168.3.2/24 scope global ens7\n",
      "       valid_lft forever preferred_lft forever\n",
      "    inet6 fe80::5474:b4ff:fe68:66dc/64 scope link \n",
      "       valid_lft forever preferred_lft forever\n",
      "\n",
      "Configuring IP 192.168.1.1 for c1\n",
      "3: ens7: <BROADCAST,MULTICAST,UP,LOWER_UP> mtu 1500 qdisc mq state UP group default qlen 1000\n",
      "    link/ether 2e:a1:b4:ff:ee:4c brd ff:ff:ff:ff:ff:ff\n",
      "    inet 192.168.1.1/24 scope global ens7\n",
      "       valid_lft forever preferred_lft forever\n",
      "    inet6 fe80::2ca1:b4ff:feff:ee4c/64 scope link \n",
      "       valid_lft forever preferred_lft forever\n",
      "\n",
      "Configuring IP 192.168.2.1 for c2\n",
      "3: ens7: <BROADCAST,MULTICAST,UP,LOWER_UP> mtu 1500 qdisc mq state UP group default qlen 1000\n",
      "    link/ether 5e:df:bf:97:f5:09 brd ff:ff:ff:ff:ff:ff\n",
      "    inet 192.168.2.1/24 scope global ens7\n",
      "       valid_lft forever preferred_lft forever\n",
      "    inet6 fe80::5cdf:bfff:fe97:f509/64 scope link \n",
      "       valid_lft forever preferred_lft forever\n",
      "\n"
     ]
    }
   ],
   "source": [
    "node = slice.get_node(\"s1\")\n",
    "iface = node.get_interface(network_name=\"net_lb_s1\") \n",
    "iface.ip_addr_add(addr=ip_s1, subnet=subnet3)\n",
    "print(\"Configuring IP {} for {}\".format(ip_s1, \"s1\"))\n",
    "stdout, stderr = node.execute(f'ip addr show {iface.get_os_interface()}')\n",
    "print (stdout)\n",
    "\n",
    "node = slice.get_node(\"s2\")\n",
    "iface = node.get_interface(network_name=\"net_lb_s2\") \n",
    "iface.ip_addr_add(addr=ip_s2, subnet=subnet3)\n",
    "print(\"Configuring IP {} for {}\".format(ip_s2, \"s2\"))\n",
    "stdout, stderr = node.execute(f'ip addr show {iface.get_os_interface()}')\n",
    "print (stdout)\n",
    "\n",
    "node = slice.get_node(\"c1\")\n",
    "iface = node.get_interface(network_name=\"net_r1_c1\") \n",
    "iface.ip_addr_add(addr=ip_c1, subnet=subnet1)\n",
    "print(\"Configuring IP {} for {}\".format(ip_c1, \"c1\"))\n",
    "stdout, stderr = node.execute(f'ip addr show {iface.get_os_interface()}')\n",
    "print (stdout)\n",
    "\n",
    "node = slice.get_node(\"c2\")\n",
    "iface = node.get_interface(network_name=\"net_r2_c2\") \n",
    "iface.ip_addr_add(addr=ip_c2, subnet=subnet2)\n",
    "print(\"Configuring IP {} for {}\".format(ip_c2, \"c2\"))\n",
    "stdout, stderr = node.execute(f'ip addr show {iface.get_os_interface()}')\n",
    "print (stdout)"
   ]
  },
  {
   "cell_type": "code",
   "execution_count": 14,
   "id": "e9ffa4fc-39d9-4cb3-bbfa-a31bdb87beba",
   "metadata": {},
   "outputs": [
    {
     "name": "stdout",
     "output_type": "stream",
     "text": [
      "-----------------  ---------------------------------------------------------------------------------------------------------------------------\n",
      "ID                 a9ef9188-2209-446d-b268-d169ff43f08c\n",
      "Name               lb\n",
      "Cores              1\n",
      "RAM                4\n",
      "Disk               100\n",
      "Image              default_ubuntu_20\n",
      "Image Type         qcow2\n",
      "Host               ucsd-w2.fabric-testbed.net\n",
      "Site               UCSD\n",
      "Management IP      132.249.252.161\n",
      "Reservation State  Active\n",
      "Error Message\n",
      "SSH Command        ssh -i /home/fabric/work/fabric_config/slice_key -J cvankaya_0000027070@bastion-1.fabric-testbed.net ubuntu@132.249.252.161\n",
      "-----------------  ---------------------------------------------------------------------------------------------------------------------------\n",
      "-----------------  ---------------------------------------------------------------------------------------------------------------------------\n",
      "ID                 17c5ec12-81a6-40dd-9e3e-e82d8ea91a0c\n",
      "Name               s1\n",
      "Cores              1\n",
      "RAM                4\n",
      "Disk               100\n",
      "Image              default_ubuntu_20\n",
      "Image Type         qcow2\n",
      "Host               ucsd-w2.fabric-testbed.net\n",
      "Site               UCSD\n",
      "Management IP      132.249.252.142\n",
      "Reservation State  Active\n",
      "Error Message\n",
      "SSH Command        ssh -i /home/fabric/work/fabric_config/slice_key -J cvankaya_0000027070@bastion-1.fabric-testbed.net ubuntu@132.249.252.142\n",
      "-----------------  ---------------------------------------------------------------------------------------------------------------------------\n",
      "-----------------  ---------------------------------------------------------------------------------------------------------------------------\n",
      "ID                 c8a85ecd-e7ec-4cea-963e-75a3c0792a24\n",
      "Name               s2\n",
      "Cores              1\n",
      "RAM                4\n",
      "Disk               100\n",
      "Image              default_ubuntu_20\n",
      "Image Type         qcow2\n",
      "Host               ucsd-w2.fabric-testbed.net\n",
      "Site               UCSD\n",
      "Management IP      132.249.252.183\n",
      "Reservation State  Active\n",
      "Error Message\n",
      "SSH Command        ssh -i /home/fabric/work/fabric_config/slice_key -J cvankaya_0000027070@bastion-1.fabric-testbed.net ubuntu@132.249.252.183\n",
      "-----------------  ---------------------------------------------------------------------------------------------------------------------------\n",
      "-----------------  ---------------------------------------------------------------------------------------------------------------------------\n",
      "ID                 1db39349-3e69-4e89-8bbd-237ff59c4d51\n",
      "Name               r1\n",
      "Cores              1\n",
      "RAM                4\n",
      "Disk               100\n",
      "Image              default_ubuntu_20\n",
      "Image Type         qcow2\n",
      "Host               ucsd-w2.fabric-testbed.net\n",
      "Site               UCSD\n",
      "Management IP      132.249.252.172\n",
      "Reservation State  Active\n",
      "Error Message\n",
      "SSH Command        ssh -i /home/fabric/work/fabric_config/slice_key -J cvankaya_0000027070@bastion-1.fabric-testbed.net ubuntu@132.249.252.172\n",
      "-----------------  ---------------------------------------------------------------------------------------------------------------------------\n",
      "-----------------  ---------------------------------------------------------------------------------------------------------------------------\n",
      "ID                 a8aac996-c934-454e-a49e-1836894398c6\n",
      "Name               r2\n",
      "Cores              1\n",
      "RAM                4\n",
      "Disk               100\n",
      "Image              default_ubuntu_20\n",
      "Image Type         qcow2\n",
      "Host               ucsd-w2.fabric-testbed.net\n",
      "Site               UCSD\n",
      "Management IP      132.249.252.187\n",
      "Reservation State  Active\n",
      "Error Message\n",
      "SSH Command        ssh -i /home/fabric/work/fabric_config/slice_key -J cvankaya_0000027070@bastion-1.fabric-testbed.net ubuntu@132.249.252.187\n",
      "-----------------  ---------------------------------------------------------------------------------------------------------------------------\n",
      "-----------------  ---------------------------------------------------------------------------------------------------------------------------\n",
      "ID                 98e6b958-ff18-4f5c-a228-f1368a853918\n",
      "Name               c1\n",
      "Cores              1\n",
      "RAM                4\n",
      "Disk               100\n",
      "Image              default_ubuntu_20\n",
      "Image Type         qcow2\n",
      "Host               ucsd-w2.fabric-testbed.net\n",
      "Site               UCSD\n",
      "Management IP      132.249.252.174\n",
      "Reservation State  Active\n",
      "Error Message\n",
      "SSH Command        ssh -i /home/fabric/work/fabric_config/slice_key -J cvankaya_0000027070@bastion-1.fabric-testbed.net ubuntu@132.249.252.174\n",
      "-----------------  ---------------------------------------------------------------------------------------------------------------------------\n",
      "-----------------  ---------------------------------------------------------------------------------------------------------------------------\n",
      "ID                 416b0340-20d3-482d-b9b2-2c6dd15f3b17\n",
      "Name               c2\n",
      "Cores              1\n",
      "RAM                4\n",
      "Disk               100\n",
      "Image              default_ubuntu_20\n",
      "Image Type         qcow2\n",
      "Host               ucsd-w2.fabric-testbed.net\n",
      "Site               UCSD\n",
      "Management IP      132.249.252.139\n",
      "Reservation State  Active\n",
      "Error Message\n",
      "SSH Command        ssh -i /home/fabric/work/fabric_config/slice_key -J cvankaya_0000027070@bastion-1.fabric-testbed.net ubuntu@132.249.252.139\n",
      "-----------------  ---------------------------------------------------------------------------------------------------------------------------\n"
     ]
    }
   ],
   "source": [
    "try:\n",
    "    slice = fablib.get_slice(name=SLICE_NAME)\n",
    "    for node in slice.get_nodes():\n",
    "        print(f\"{node}\")\n",
    "except Exception as e:\n",
    "    print(f\"Exception: {e}\")"
   ]
  },
  {
   "cell_type": "code",
   "execution_count": 15,
   "id": "2062c416-8a4c-4c9e-a88c-51e08020de4b",
   "metadata": {},
   "outputs": [
    {
     "data": {
      "text/plain": [
       "<SFTPAttributes: [ size=794 uid=1000 gid=1000 mode=0o100664 atime=1669716346 mtime=1669716346 ]>"
      ]
     },
     "execution_count": 15,
     "metadata": {},
     "output_type": "execute_result"
    }
   ],
   "source": [
    "node = slice.get_node(\"lb\")\n",
    "node.upload_file('./p4_setup.sh', '/home/ubuntu/p4_setup.sh')"
   ]
  },
  {
   "cell_type": "code",
   "execution_count": 16,
   "id": "93ad0034-8287-4abb-92a4-9f00f99c941a",
   "metadata": {},
   "outputs": [
    {
     "data": {
      "text/plain": [
       "<SFTPAttributes: [ size=794 uid=1000 gid=1000 mode=0o100664 atime=1669716349 mtime=1669716350 ]>"
      ]
     },
     "execution_count": 16,
     "metadata": {},
     "output_type": "execute_result"
    }
   ],
   "source": [
    "node = slice.get_node(\"r1\")\n",
    "node.upload_file('./p4_setup.sh', '/home/ubuntu/p4_setup.sh')"
   ]
  },
  {
   "cell_type": "code",
   "execution_count": 17,
   "id": "c8520c7a-795e-49de-bea2-77994ac335fc",
   "metadata": {},
   "outputs": [
    {
     "data": {
      "text/plain": [
       "<SFTPAttributes: [ size=794 uid=1000 gid=1000 mode=0o100664 atime=1669716352 mtime=1669716353 ]>"
      ]
     },
     "execution_count": 17,
     "metadata": {},
     "output_type": "execute_result"
    }
   ],
   "source": [
    "node = slice.get_node(\"r2\")\n",
    "node.upload_file('./p4_setup.sh', '/home/ubuntu/p4_setup.sh')"
   ]
  },
  {
   "cell_type": "code",
   "execution_count": 18,
   "id": "36c2bc57-a13f-4298-9ceb-b188ac7de68e",
   "metadata": {},
   "outputs": [
    {
     "data": {
      "text/plain": [
       "<SFTPAttributes: [ size=2727 uid=1000 gid=1000 mode=0o100664 atime=1669716355 mtime=1669716355 ]>"
      ]
     },
     "execution_count": 18,
     "metadata": {},
     "output_type": "execute_result"
    }
   ],
   "source": [
    "node = slice.get_node(\"lb\")\n",
    "node.upload_file('./simple_router.p4', '/home/ubuntu/simple_router.p4')"
   ]
  },
  {
   "cell_type": "code",
   "execution_count": 19,
   "id": "86fd3f7a-58c4-400b-a500-8d303f0f6194",
   "metadata": {},
   "outputs": [
    {
     "data": {
      "text/plain": [
       "<SFTPAttributes: [ size=2727 uid=1000 gid=1000 mode=0o100664 atime=1669716358 mtime=1669716358 ]>"
      ]
     },
     "execution_count": 19,
     "metadata": {},
     "output_type": "execute_result"
    }
   ],
   "source": [
    "node = slice.get_node(\"r1\")\n",
    "node.upload_file('./simple_router.p4', '/home/ubuntu/simple_router.p4')"
   ]
  },
  {
   "cell_type": "code",
   "execution_count": 20,
   "id": "88746713-b14e-41ee-976b-17bac6f7df95",
   "metadata": {},
   "outputs": [
    {
     "data": {
      "text/plain": [
       "<SFTPAttributes: [ size=2727 uid=1000 gid=1000 mode=0o100664 atime=1669716361 mtime=1669716361 ]>"
      ]
     },
     "execution_count": 20,
     "metadata": {},
     "output_type": "execute_result"
    }
   ],
   "source": [
    "node = slice.get_node(\"r2\")\n",
    "node.upload_file('./simple_router.p4', '/home/ubuntu/simple_router.p4')"
   ]
  },
  {
   "cell_type": "code",
   "execution_count": 21,
   "id": "4a53bde5-9847-4f18-a569-b2101a18b54c",
   "metadata": {},
   "outputs": [],
   "source": [
    "# Add routes"
   ]
  },
  {
   "cell_type": "code",
   "execution_count": 5,
   "id": "4ed0471d-a9d1-4ae1-8089-81b98c8d1ec2",
   "metadata": {},
   "outputs": [],
   "source": [
    "try:\n",
    "    slice = fablib.get_slice(name=SLICE_NAME)\n",
    "    slice.delete()\n",
    "except Exception as e:\n",
    "    print(f\"Fail: {e}\")\n",
    "    traceback.print_exc()"
   ]
  },
  {
   "cell_type": "code",
   "execution_count": null,
   "id": "def0d47f-4786-493e-9939-0073ccccc1a9",
   "metadata": {},
   "outputs": [],
   "source": []
  }
 ],
 "metadata": {
  "kernelspec": {
   "display_name": "Python 3 (ipykernel)",
   "language": "python",
   "name": "python3"
  },
  "language_info": {
   "codemirror_mode": {
    "name": "ipython",
    "version": 3
   },
   "file_extension": ".py",
   "mimetype": "text/x-python",
   "name": "python",
   "nbconvert_exporter": "python",
   "pygments_lexer": "ipython3",
   "version": "3.9.7"
  }
 },
 "nbformat": 4,
 "nbformat_minor": 5
}
