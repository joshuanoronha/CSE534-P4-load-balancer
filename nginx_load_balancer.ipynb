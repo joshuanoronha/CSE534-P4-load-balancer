{
 "cells": [
  {
   "cell_type": "markdown",
   "id": "172e8938-6610-4bda-b226-6cf0d74ad193",
   "metadata": {},
   "source": [
    "#  Setting Up a Ngnix Load Balancer\n",
    "\n",
    "## Configure the Environment"
   ]
  },
  {
   "cell_type": "code",
   "execution_count": 1,
   "id": "d1b70b8b-b33f-4172-bb11-4d6b69c3c628",
   "metadata": {},
   "outputs": [],
   "source": [
    "import os\n",
    "\n",
    "# If you are using the FABRIC JupyterHub, the following three evnrionment vars\n",
    "# were automatically provided when you logged in.\n",
    "#os.environ['FABRIC_CREDMGR_HOST']='cm.fabric-testbed.net'\n",
    "#os.environ['FABRIC_ORCHESTRATOR_HOST']='orchestrator.fabric-testbed.net'\n",
    "#os.environ['FABRIC_TOKEN_LOCATION']=os.environ['HOME']+'/work/fabric_token.json'\n",
    "\n",
    "# Set your FABRIC PROJECT ID\n",
    "os.environ['FABRIC_PROJECT_ID']='6ce270de-788d-4e07-8bae-3206860a6387'\n",
    "\n",
    "# Bastion IPs\n",
    "os.environ['FABRIC_BASTION_HOST'] = 'bastion-1.fabric-testbed.net'\n",
    "\n",
    "# Set your Bastion username and private key\n",
    "os.environ['FABRIC_BASTION_USERNAME']='cvankaya_0000027070'\n",
    "os.environ['FABRIC_BASTION_KEY_LOCATION']=os.environ['HOME']+'/work/fabric_config/bastion-key-cvankaya'\n",
    "\n",
    "# Set the keypair FABRIC will install in your slice. \n",
    "os.environ['FABRIC_SLICE_PRIVATE_KEY_FILE']=os.environ['HOME']+'/.ssh/id_rsa'\n",
    "os.environ['FABRIC_SLICE_PUBLIC_KEY_FILE']=os.environ['HOME']+'/.ssh/id_rsa.pub'\n",
    "\n",
    "# If your slice private key uses a passphrase, set the passphrase\n",
    "#from getpass import getpass\n",
    "#print('Please input private key passphrase. Press enter for no passphrase.')\n",
    "#os.environ['FABRIC_SLICE_PRIVATE_KEY_PASSPHRASE']=getpass()"
   ]
  },
  {
   "cell_type": "markdown",
   "id": "e46aa7ee-f4a9-4cab-9123-6af2c334eca8",
   "metadata": {},
   "source": [
    "## Setup the Experiment\n",
    "\n",
    "#### Import FABRIC API"
   ]
  },
  {
   "cell_type": "code",
   "execution_count": 2,
   "id": "d1c12b38-b9cf-4e0e-9c8b-90bd7bbde094",
   "metadata": {},
   "outputs": [],
   "source": [
    "import json\n",
    "import traceback\n",
    "\n",
    "from fabrictestbed_extensions.fablib.fablib import fablib"
   ]
  },
  {
   "cell_type": "markdown",
   "id": "13998349-9bce-453f-977e-78930228936d",
   "metadata": {},
   "source": [
    "## Step 4: Create the Experiment Slice\n",
    "\n",
    "The following creates two nodes with basic NICs connected to an isolated WAN Ethernet, as outlined in the [Create a Wide Area Ethernet (Layer 2) tutorial](../../fablib_api/create_l2network_wide_area.ipynb). More advanced topologies can be created, so long as the server node is routable by each client attempting to access the server's data."
   ]
  },
  {
   "cell_type": "code",
   "execution_count": 3,
   "id": "8ab1834b-6f6d-4109-ad73-2ddda81a104a",
   "metadata": {},
   "outputs": [
    {
     "name": "stdout",
     "output_type": "stream",
     "text": [
      "['server_0', 'server_1']\n"
     ]
    }
   ],
   "source": [
    "SLICE_NAME = 'nginx-lb-slice'\n",
    "SITE=\"UCSD\"\n",
    "NUM_SERVERS = 2\n",
    "\n",
    "# We will use Ubuntu 20.04 for both nodes\n",
    "IMAGE = 'default_ubuntu_20'\n",
    "CORES = 1\n",
    "RAM = 2\n",
    "server_names = [\"server_{}\".format(i) for i in range(NUM_SERVERS)]\n",
    "print(server_names)"
   ]
  },
  {
   "cell_type": "markdown",
   "id": "dae3919b-af8d-4a7a-bc88-8b8a1d0fa49d",
   "metadata": {},
   "source": [
    "In this example, we will set up an L2 network. As discuss above, a different network configuration, such as using the FABNet L3 network should work, so long as the clients and server can route to each other."
   ]
  },
  {
   "cell_type": "code",
   "execution_count": 4,
   "id": "6b76d1f4-75ad-4907-a671-62e223722c14",
   "metadata": {
    "tags": []
   },
   "outputs": [],
   "source": [
    "import datetime\n",
    "from datetime import timedelta\n",
    "\n",
    "try:\n",
    "    #Create Slice\n",
    "    slice = fablib.new_slice(name=SLICE_NAME)\n",
    "    now = datetime.datetime.now(datetime.timezone.utc)\n",
    "    end_date = (now + timedelta(days=6)).strftime(\"%Y-%m-%d %H:%M:%S %z\")\n",
    "    #slice.renew(end_date)\n",
    "    \n",
    "    #lb\n",
    "    lb = {}\n",
    "    lb_node = slice.add_node(name=\"ngnix_lb\", site=SITE, cores=CORES, ram=RAM, image=IMAGE)\n",
    "    lb[\"name\"]=\"ngnix_lb\"\n",
    "    lb[\"node\"]=lb_node\n",
    "    lb[\"ifs\"]={}\n",
    "    #Create servers\n",
    "    servers = {}\n",
    "\n",
    "    for srv_name in server_names:\n",
    "        server = slice.add_node(name=srv_name, site=SITE, cores=CORES, ram=RAM, image=IMAGE)\n",
    "        server_iface = server.add_component(model='NIC_Basic', name=\"if_{}\".format(srv_name)).get_interfaces()[0]\n",
    "        servers[srv_name] = {\"server\":server, \"interface\": server_iface}\n",
    "        lb_iface = lb_node.add_component(model='NIC_Basic', name=\"if_lb_{}\".format(srv_name)).get_interfaces()[0]\n",
    "        ser_net = slice.add_l2network(name=\"net_{}\".format(srv_name), interfaces=[lb_iface, server_iface])\n",
    "        lb[\"ifs\"][srv_name] = {\"if_name\":\"if_lb_{}\".format(srv_name), \"if\": lb_iface, \"net_name\":\"net_{}\".format(srv_name), \"net\": ser_net}\n",
    "        \n",
    "    #client\n",
    "    client = slice.add_node(name=\"client\", site=SITE, image=IMAGE)\n",
    "    client_iface = client.add_component(model='NIC_Basic', name=\"if_client\").get_interfaces()[0]\n",
    "    \n",
    "    lb_iface = lb_node.add_component(model='NIC_Basic', name=\"if_lb_client\").get_interfaces()[0]\n",
    "    client_net = slice.add_l2network(name=\"net_client\", interfaces=[lb_iface, client_iface])\n",
    "    lb[\"ifs\"][\"client\"] = {\"if_name\":\"if_lb_client\", \"if\": client_iface, \"net_name\":\"net_client\".format(srv_name), \"net\": client_net}\n",
    "except Exception as e:\n",
    "    print(f\"Exception: {e}\")"
   ]
  },
  {
   "cell_type": "code",
   "execution_count": null,
   "id": "99361eee-ce8d-49bd-bc23-fb9e1d5b4d5c",
   "metadata": {},
   "outputs": [
    {
     "name": "stdout",
     "output_type": "stream",
     "text": [
      "\n",
      "-----------  ------------------------------------\n",
      "Slice Name   nginx-lb-slice\n",
      "Slice ID     4a874099-50d0-4b74-880c-7204957a74da\n",
      "Slice State  Configuring\n",
      "Lease End    2022-12-02 07:21:08 +0000\n",
      "-----------  ------------------------------------\n",
      "\n",
      "Retry: 27, Time: 385 sec\n",
      "\n",
      "ID                                    Name      Site    Host                          Cores    RAM    Disk  Image              Management IP    State    Error\n",
      "------------------------------------  --------  ------  --------------------------  -------  -----  ------  -----------------  ---------------  -------  -------\n",
      "f9883fca-bc01-40f9-9305-fc0851bfced9  ngnix_lb  UCSD    ucsd-w2.fabric-testbed.net        1      2      10  default_ubuntu_20  132.249.252.181  Active\n",
      "9e2b3cb7-1a2b-4a51-af44-57437fb897ef  server_0  UCSD    ucsd-w2.fabric-testbed.net        1      2      10  default_ubuntu_20  132.249.252.162  Active\n",
      "b7ed8956-ace0-46b7-8593-8cdecc71b028  server_1  UCSD    ucsd-w2.fabric-testbed.net        1      2      10  default_ubuntu_20  132.249.252.149  Active\n",
      "9183422d-29cb-435e-918c-e225a144c9a4  client    UCSD    ucsd-w2.fabric-testbed.net        2      8      10  default_ubuntu_20  132.249.252.155  Active\n"
     ]
    }
   ],
   "source": [
    "\n",
    "#Submit Slice Request\n",
    "slice.submit()"
   ]
  },
  {
   "cell_type": "markdown",
   "id": "0b616e01-a5c0-4bf5-818a-5c5bfb2163d8",
   "metadata": {},
   "source": [
    "## Print the Node Details"
   ]
  },
  {
   "cell_type": "code",
   "execution_count": 6,
   "id": "36bb51b9-03bf-44c6-af0e-b553233a36a7",
   "metadata": {
    "tags": []
   },
   "outputs": [
    {
     "name": "stdout",
     "output_type": "stream",
     "text": [
      "-----------------  ---------------------------------------------------------------------------------------------------------------------------\n",
      "ID                 b98de84a-e110-4863-9138-b2ec49af87ab\n",
      "Name               ngnix_lb\n",
      "Cores              1\n",
      "RAM                2\n",
      "Disk               10\n",
      "Image              default_ubuntu_20\n",
      "Image Type         qcow2\n",
      "Host               ucsd-w2.fabric-testbed.net\n",
      "Site               UCSD\n",
      "Management IP      132.249.252.173\n",
      "Reservation State  Active\n",
      "Error Message\n",
      "SSH Command        ssh -i /home/fabric/work/fabric_config/slice_key -J cvankaya_0000027070@bastion-1.fabric-testbed.net ubuntu@132.249.252.173\n",
      "-----------------  ---------------------------------------------------------------------------------------------------------------------------\n",
      "-----------------  ---------------------------------------------------------------------------------------------------------------------------\n",
      "ID                 17255a86-dcbf-48b6-bea7-d4be7b57285b\n",
      "Name               server_0\n",
      "Cores              1\n",
      "RAM                2\n",
      "Disk               10\n",
      "Image              default_ubuntu_20\n",
      "Image Type         qcow2\n",
      "Host               ucsd-w2.fabric-testbed.net\n",
      "Site               UCSD\n",
      "Management IP      132.249.252.151\n",
      "Reservation State  Active\n",
      "Error Message\n",
      "SSH Command        ssh -i /home/fabric/work/fabric_config/slice_key -J cvankaya_0000027070@bastion-1.fabric-testbed.net ubuntu@132.249.252.151\n",
      "-----------------  ---------------------------------------------------------------------------------------------------------------------------\n",
      "-----------------  ---------------------------------------------------------------------------------------------------------------------------\n",
      "ID                 680b2477-ca20-48b3-9653-c31b51923c11\n",
      "Name               server_1\n",
      "Cores              1\n",
      "RAM                2\n",
      "Disk               10\n",
      "Image              default_ubuntu_20\n",
      "Image Type         qcow2\n",
      "Host               ucsd-w2.fabric-testbed.net\n",
      "Site               UCSD\n",
      "Management IP      132.249.252.152\n",
      "Reservation State  Active\n",
      "Error Message\n",
      "SSH Command        ssh -i /home/fabric/work/fabric_config/slice_key -J cvankaya_0000027070@bastion-1.fabric-testbed.net ubuntu@132.249.252.152\n",
      "-----------------  ---------------------------------------------------------------------------------------------------------------------------\n",
      "-----------------  ---------------------------------------------------------------------------------------------------------------------------\n",
      "ID                 0d81e97d-4f13-44df-bf4a-ec462db449ab\n",
      "Name               server_2\n",
      "Cores              1\n",
      "RAM                2\n",
      "Disk               10\n",
      "Image              default_ubuntu_20\n",
      "Image Type         qcow2\n",
      "Host               ucsd-w2.fabric-testbed.net\n",
      "Site               UCSD\n",
      "Management IP      132.249.252.159\n",
      "Reservation State  Active\n",
      "Error Message\n",
      "SSH Command        ssh -i /home/fabric/work/fabric_config/slice_key -J cvankaya_0000027070@bastion-1.fabric-testbed.net ubuntu@132.249.252.159\n",
      "-----------------  ---------------------------------------------------------------------------------------------------------------------------\n",
      "-----------------  ---------------------------------------------------------------------------------------------------------------------------\n",
      "ID                 f91b1fb7-2f94-49c9-a31a-43a73e30c361\n",
      "Name               client\n",
      "Cores              2\n",
      "RAM                8\n",
      "Disk               10\n",
      "Image              default_ubuntu_20\n",
      "Image Type         qcow2\n",
      "Host               ucsd-w2.fabric-testbed.net\n",
      "Site               UCSD\n",
      "Management IP      132.249.252.180\n",
      "Reservation State  Active\n",
      "Error Message\n",
      "SSH Command        ssh -i /home/fabric/work/fabric_config/slice_key -J cvankaya_0000027070@bastion-1.fabric-testbed.net ubuntu@132.249.252.180\n",
      "-----------------  ---------------------------------------------------------------------------------------------------------------------------\n"
     ]
    }
   ],
   "source": [
    "try:\n",
    "    slice = fablib.get_slice(name=SLICE_NAME)\n",
    "    for node in slice.get_nodes():\n",
    "        print(f\"{node}\")\n",
    "except Exception as e:\n",
    "    print(f\"Exception: {e}\")"
   ]
  },
  {
   "cell_type": "markdown",
   "id": "ea19f6d4-9844-4627-8d68-3297f06be6c6",
   "metadata": {},
   "source": [
    "## Configure IP Addresses and Pick a Subnet\n",
    "\n",
    "Create a subnet and list of available IP addresses. All objects are Python IP managment objects. You can use either IPv4 or IPv6 subents and addresses."
   ]
  },
  {
   "cell_type": "code",
   "execution_count": 7,
   "id": "6e5522a3-dec6-4d12-b115-542d89320285",
   "metadata": {
    "collapsed": true,
    "jupyter": {
     "outputs_hidden": true
    },
    "tags": []
   },
   "outputs": [
    {
     "name": "stdout",
     "output_type": "stream",
     "text": [
      "[IPv4Address('192.168.1.1'), IPv4Address('192.168.1.2'), IPv4Address('192.168.1.3'), IPv4Address('192.168.1.4'), IPv4Address('192.168.1.5'), IPv4Address('192.168.1.6'), IPv4Address('192.168.1.7'), IPv4Address('192.168.1.8'), IPv4Address('192.168.1.9'), IPv4Address('192.168.1.10'), IPv4Address('192.168.1.11'), IPv4Address('192.168.1.12'), IPv4Address('192.168.1.13'), IPv4Address('192.168.1.14'), IPv4Address('192.168.1.15'), IPv4Address('192.168.1.16'), IPv4Address('192.168.1.17'), IPv4Address('192.168.1.18'), IPv4Address('192.168.1.19'), IPv4Address('192.168.1.20'), IPv4Address('192.168.1.21'), IPv4Address('192.168.1.22'), IPv4Address('192.168.1.23'), IPv4Address('192.168.1.24'), IPv4Address('192.168.1.25'), IPv4Address('192.168.1.26'), IPv4Address('192.168.1.27'), IPv4Address('192.168.1.28'), IPv4Address('192.168.1.29'), IPv4Address('192.168.1.30'), IPv4Address('192.168.1.31'), IPv4Address('192.168.1.32'), IPv4Address('192.168.1.33'), IPv4Address('192.168.1.34'), IPv4Address('192.168.1.35'), IPv4Address('192.168.1.36'), IPv4Address('192.168.1.37'), IPv4Address('192.168.1.38'), IPv4Address('192.168.1.39'), IPv4Address('192.168.1.40'), IPv4Address('192.168.1.41'), IPv4Address('192.168.1.42'), IPv4Address('192.168.1.43'), IPv4Address('192.168.1.44'), IPv4Address('192.168.1.45'), IPv4Address('192.168.1.46'), IPv4Address('192.168.1.47'), IPv4Address('192.168.1.48'), IPv4Address('192.168.1.49'), IPv4Address('192.168.1.50'), IPv4Address('192.168.1.51'), IPv4Address('192.168.1.52'), IPv4Address('192.168.1.53'), IPv4Address('192.168.1.54'), IPv4Address('192.168.1.55'), IPv4Address('192.168.1.56'), IPv4Address('192.168.1.57'), IPv4Address('192.168.1.58'), IPv4Address('192.168.1.59'), IPv4Address('192.168.1.60'), IPv4Address('192.168.1.61'), IPv4Address('192.168.1.62'), IPv4Address('192.168.1.63'), IPv4Address('192.168.1.64'), IPv4Address('192.168.1.65'), IPv4Address('192.168.1.66'), IPv4Address('192.168.1.67'), IPv4Address('192.168.1.68'), IPv4Address('192.168.1.69'), IPv4Address('192.168.1.70'), IPv4Address('192.168.1.71'), IPv4Address('192.168.1.72'), IPv4Address('192.168.1.73'), IPv4Address('192.168.1.74'), IPv4Address('192.168.1.75'), IPv4Address('192.168.1.76'), IPv4Address('192.168.1.77'), IPv4Address('192.168.1.78'), IPv4Address('192.168.1.79'), IPv4Address('192.168.1.80'), IPv4Address('192.168.1.81'), IPv4Address('192.168.1.82'), IPv4Address('192.168.1.83'), IPv4Address('192.168.1.84'), IPv4Address('192.168.1.85'), IPv4Address('192.168.1.86'), IPv4Address('192.168.1.87'), IPv4Address('192.168.1.88'), IPv4Address('192.168.1.89'), IPv4Address('192.168.1.90'), IPv4Address('192.168.1.91'), IPv4Address('192.168.1.92'), IPv4Address('192.168.1.93'), IPv4Address('192.168.1.94'), IPv4Address('192.168.1.95'), IPv4Address('192.168.1.96'), IPv4Address('192.168.1.97'), IPv4Address('192.168.1.98'), IPv4Address('192.168.1.99'), IPv4Address('192.168.1.100'), IPv4Address('192.168.1.101'), IPv4Address('192.168.1.102'), IPv4Address('192.168.1.103'), IPv4Address('192.168.1.104'), IPv4Address('192.168.1.105'), IPv4Address('192.168.1.106'), IPv4Address('192.168.1.107'), IPv4Address('192.168.1.108'), IPv4Address('192.168.1.109'), IPv4Address('192.168.1.110'), IPv4Address('192.168.1.111'), IPv4Address('192.168.1.112'), IPv4Address('192.168.1.113'), IPv4Address('192.168.1.114'), IPv4Address('192.168.1.115'), IPv4Address('192.168.1.116'), IPv4Address('192.168.1.117'), IPv4Address('192.168.1.118'), IPv4Address('192.168.1.119'), IPv4Address('192.168.1.120'), IPv4Address('192.168.1.121'), IPv4Address('192.168.1.122'), IPv4Address('192.168.1.123'), IPv4Address('192.168.1.124'), IPv4Address('192.168.1.125'), IPv4Address('192.168.1.126'), IPv4Address('192.168.1.127'), IPv4Address('192.168.1.128'), IPv4Address('192.168.1.129'), IPv4Address('192.168.1.130'), IPv4Address('192.168.1.131'), IPv4Address('192.168.1.132'), IPv4Address('192.168.1.133'), IPv4Address('192.168.1.134'), IPv4Address('192.168.1.135'), IPv4Address('192.168.1.136'), IPv4Address('192.168.1.137'), IPv4Address('192.168.1.138'), IPv4Address('192.168.1.139'), IPv4Address('192.168.1.140'), IPv4Address('192.168.1.141'), IPv4Address('192.168.1.142'), IPv4Address('192.168.1.143'), IPv4Address('192.168.1.144'), IPv4Address('192.168.1.145'), IPv4Address('192.168.1.146'), IPv4Address('192.168.1.147'), IPv4Address('192.168.1.148'), IPv4Address('192.168.1.149'), IPv4Address('192.168.1.150'), IPv4Address('192.168.1.151'), IPv4Address('192.168.1.152'), IPv4Address('192.168.1.153'), IPv4Address('192.168.1.154'), IPv4Address('192.168.1.155'), IPv4Address('192.168.1.156'), IPv4Address('192.168.1.157'), IPv4Address('192.168.1.158'), IPv4Address('192.168.1.159'), IPv4Address('192.168.1.160'), IPv4Address('192.168.1.161'), IPv4Address('192.168.1.162'), IPv4Address('192.168.1.163'), IPv4Address('192.168.1.164'), IPv4Address('192.168.1.165'), IPv4Address('192.168.1.166'), IPv4Address('192.168.1.167'), IPv4Address('192.168.1.168'), IPv4Address('192.168.1.169'), IPv4Address('192.168.1.170'), IPv4Address('192.168.1.171'), IPv4Address('192.168.1.172'), IPv4Address('192.168.1.173'), IPv4Address('192.168.1.174'), IPv4Address('192.168.1.175'), IPv4Address('192.168.1.176'), IPv4Address('192.168.1.177'), IPv4Address('192.168.1.178'), IPv4Address('192.168.1.179'), IPv4Address('192.168.1.180'), IPv4Address('192.168.1.181'), IPv4Address('192.168.1.182'), IPv4Address('192.168.1.183'), IPv4Address('192.168.1.184'), IPv4Address('192.168.1.185'), IPv4Address('192.168.1.186'), IPv4Address('192.168.1.187'), IPv4Address('192.168.1.188'), IPv4Address('192.168.1.189'), IPv4Address('192.168.1.190'), IPv4Address('192.168.1.191'), IPv4Address('192.168.1.192'), IPv4Address('192.168.1.193'), IPv4Address('192.168.1.194'), IPv4Address('192.168.1.195'), IPv4Address('192.168.1.196'), IPv4Address('192.168.1.197'), IPv4Address('192.168.1.198'), IPv4Address('192.168.1.199'), IPv4Address('192.168.1.200'), IPv4Address('192.168.1.201'), IPv4Address('192.168.1.202'), IPv4Address('192.168.1.203'), IPv4Address('192.168.1.204'), IPv4Address('192.168.1.205'), IPv4Address('192.168.1.206'), IPv4Address('192.168.1.207'), IPv4Address('192.168.1.208'), IPv4Address('192.168.1.209'), IPv4Address('192.168.1.210'), IPv4Address('192.168.1.211'), IPv4Address('192.168.1.212'), IPv4Address('192.168.1.213'), IPv4Address('192.168.1.214'), IPv4Address('192.168.1.215'), IPv4Address('192.168.1.216'), IPv4Address('192.168.1.217'), IPv4Address('192.168.1.218'), IPv4Address('192.168.1.219'), IPv4Address('192.168.1.220'), IPv4Address('192.168.1.221'), IPv4Address('192.168.1.222'), IPv4Address('192.168.1.223'), IPv4Address('192.168.1.224'), IPv4Address('192.168.1.225'), IPv4Address('192.168.1.226'), IPv4Address('192.168.1.227'), IPv4Address('192.168.1.228'), IPv4Address('192.168.1.229'), IPv4Address('192.168.1.230'), IPv4Address('192.168.1.231'), IPv4Address('192.168.1.232'), IPv4Address('192.168.1.233'), IPv4Address('192.168.1.234'), IPv4Address('192.168.1.235'), IPv4Address('192.168.1.236'), IPv4Address('192.168.1.237'), IPv4Address('192.168.1.238'), IPv4Address('192.168.1.239'), IPv4Address('192.168.1.240'), IPv4Address('192.168.1.241'), IPv4Address('192.168.1.242'), IPv4Address('192.168.1.243'), IPv4Address('192.168.1.244'), IPv4Address('192.168.1.245'), IPv4Address('192.168.1.246'), IPv4Address('192.168.1.247'), IPv4Address('192.168.1.248'), IPv4Address('192.168.1.249'), IPv4Address('192.168.1.250'), IPv4Address('192.168.1.251'), IPv4Address('192.168.1.252'), IPv4Address('192.168.1.253'), IPv4Address('192.168.1.254'), IPv4Address('192.168.1.255')]\n"
     ]
    }
   ],
   "source": [
    "from ipaddress import ip_address, IPv4Address, IPv6Address, IPv4Network, IPv6Network\n",
    "\n",
    "try:\n",
    "    subnet = IPv4Network(\"192.168.1.0/24\")\n",
    "    available_ips = list(subnet)[1:]\n",
    "    print(available_ips)\n",
    "except Exception as e:\n",
    "    print(f\"Exception: {e}\")"
   ]
  },
  {
   "cell_type": "markdown",
   "id": "1a626ffb-6d02-41a5-9e91-21863a833f18",
   "metadata": {},
   "source": [
    "## Configure the LB Interfaces"
   ]
  },
  {
   "cell_type": "code",
   "execution_count": 9,
   "id": "88a7ecdf-17b5-48ef-a675-a4734ab35157",
   "metadata": {},
   "outputs": [
    {
     "name": "stdout",
     "output_type": "stream",
     "text": [
      "Configuring IP 192.168.1.1 for server_0\n",
      "4: ens8: <BROADCAST,MULTICAST,UP,LOWER_UP> mtu 1500 qdisc mq state UP group default qlen 1000\n",
      "    link/ether 1e:c2:9a:90:9d:8d brd ff:ff:ff:ff:ff:ff\n",
      "    inet 192.168.1.1/24 scope global ens8\n",
      "       valid_lft forever preferred_lft forever\n",
      "    inet6 fe80::1cc2:9aff:fe90:9d8d/64 scope link \n",
      "       valid_lft forever preferred_lft forever\n",
      "\n",
      "Configuring IP 192.168.1.2 for server_1\n",
      "6: ens10: <BROADCAST,MULTICAST,UP,LOWER_UP> mtu 1500 qdisc mq state UP group default qlen 1000\n",
      "    link/ether 26:9f:a3:3c:d0:15 brd ff:ff:ff:ff:ff:ff\n",
      "    inet 192.168.1.2/24 scope global ens10\n",
      "       valid_lft forever preferred_lft forever\n",
      "    inet6 fe80::249f:a3ff:fe3c:d015/64 scope link \n",
      "       valid_lft forever preferred_lft forever\n",
      "\n",
      "Configuring IP 192.168.1.3 for server_2\n",
      "5: ens9: <BROADCAST,MULTICAST,UP,LOWER_UP> mtu 1500 qdisc mq state UP group default qlen 1000\n",
      "    link/ether 22:54:d5:53:48:1e brd ff:ff:ff:ff:ff:ff\n",
      "    inet 192.168.1.3/24 scope global ens9\n",
      "       valid_lft forever preferred_lft forever\n",
      "    inet6 fe80::2054:d5ff:fe53:481e/64 scope link \n",
      "       valid_lft forever preferred_lft forever\n",
      "\n",
      "Configuring IP 192.168.1.4 for client\n",
      "3: ens7: <BROADCAST,MULTICAST,UP,LOWER_UP> mtu 1500 qdisc mq state UP group default qlen 1000\n",
      "    link/ether 1e:87:a0:66:ee:73 brd ff:ff:ff:ff:ff:ff\n",
      "    inet 192.168.1.4/24 scope global ens7\n",
      "       valid_lft forever preferred_lft forever\n",
      "    inet6 fe80::1c87:a0ff:fe66:ee73/64 scope link \n",
      "       valid_lft forever preferred_lft forever\n",
      "\n"
     ]
    },
    {
     "data": {
      "text/plain": [
       "\"  \\nserver = slice.get_node(name=server_name)        \\nserver_iface = server.get_interface(network_name=network_name) \\nserver_addr = available_ips.pop(0)\\nserver_iface.ip_addr_add(addr=server_addr, subnet=subnet)\\n\\nstdout, stderr = server.execute(f'ip addr show {server_iface.get_os_interface()}')\\nprint (stdout)\\n\""
      ]
     },
     "execution_count": 9,
     "metadata": {},
     "output_type": "execute_result"
    }
   ],
   "source": [
    "slice = fablib.get_slice(name=SLICE_NAME)\n",
    "ip_map = {}\n",
    "for name, iface in lb[\"ifs\"].items():\n",
    "    lb_node = slice.get_node(\"ngnix_lb\")\n",
    "    lb_iface = lb_node.get_interface(network_name=iface[\"net_name\"]) \n",
    "    ip = available_ips.pop(0)\n",
    "    ip_map[iface[\"if_name\"]] = ip\n",
    "    lb_iface.ip_addr_add(addr=ip, subnet=subnet)\n",
    "    print(\"Configuring IP {} for {}\".format(ip, name))\n",
    "    stdout, stderr = lb_node.execute(f'ip addr show {lb_iface.get_os_interface()}')\n",
    "    print (stdout)\n",
    "    \n",
    "\n",
    "\"\"\"  \n",
    "server = slice.get_node(name=server_name)        \n",
    "server_iface = server.get_interface(network_name=network_name) \n",
    "server_addr = available_ips.pop(0)\n",
    "server_iface.ip_addr_add(addr=server_addr, subnet=subnet)\n",
    "\n",
    "stdout, stderr = server.execute(f'ip addr show {server_iface.get_os_interface()}')\n",
    "print (stdout)\n",
    "\"\"\""
   ]
  },
  {
   "cell_type": "markdown",
   "id": "d9d7c242-f30f-4f22-aaf9-d6663f348949",
   "metadata": {},
   "source": [
    "## Configure the server interfaces"
   ]
  },
  {
   "cell_type": "code",
   "execution_count": 10,
   "id": "cc82f638-8189-4d5d-be91-107d56fc7184",
   "metadata": {},
   "outputs": [
    {
     "name": "stdout",
     "output_type": "stream",
     "text": [
      "['server_0', 'server_1', 'server_2']\n",
      "192.168.1.5\n",
      "Configuring IP 192.168.1.5 for server_0\n",
      "3: ens7: <BROADCAST,MULTICAST,UP,LOWER_UP> mtu 1500 qdisc mq state UP group default qlen 1000\n",
      "    link/ether 2a:ce:d4:40:b1:cc brd ff:ff:ff:ff:ff:ff\n",
      "    inet 192.168.1.5/24 scope global ens7\n",
      "       valid_lft forever preferred_lft forever\n",
      "    inet6 fe80::28ce:d4ff:fe40:b1cc/64 scope link \n",
      "       valid_lft forever preferred_lft forever\n",
      "\n",
      "192.168.1.6\n",
      "Configuring IP 192.168.1.6 for server_1\n",
      "3: ens7: <BROADCAST,MULTICAST,UP,LOWER_UP> mtu 1500 qdisc mq state UP group default qlen 1000\n",
      "    link/ether 2a:da:63:3b:5f:35 brd ff:ff:ff:ff:ff:ff\n",
      "    inet 192.168.1.6/24 scope global ens7\n",
      "       valid_lft forever preferred_lft forever\n",
      "    inet6 fe80::28da:63ff:fe3b:5f35/64 scope link \n",
      "       valid_lft forever preferred_lft forever\n",
      "\n",
      "192.168.1.7\n",
      "Configuring IP 192.168.1.7 for server_2\n",
      "3: ens7: <BROADCAST,MULTICAST,UP,LOWER_UP> mtu 1500 qdisc mq state UP group default qlen 1000\n",
      "    link/ether 2e:12:8f:2e:6f:47 brd ff:ff:ff:ff:ff:ff\n",
      "    inet 192.168.1.7/24 scope global ens7\n",
      "       valid_lft forever preferred_lft forever\n",
      "    inet6 fe80::2c12:8fff:fe2e:6f47/64 scope link \n",
      "       valid_lft forever preferred_lft forever\n",
      "\n"
     ]
    }
   ],
   "source": [
    "print(server_names)\n",
    "for name in server_names:\n",
    "    ip = available_ips.pop(0)\n",
    "    srv_node = slice.get_node(name)\n",
    "    srv_iface = srv_node.get_interface(network_name=\"net_{}\".format(name)) \n",
    "    print(ip)\n",
    "    ip_map[\"if_{}\".format(name)] = ip\n",
    "    srv_iface.ip_addr_add(addr=ip, subnet=subnet)\n",
    "    print(\"Configuring IP {} for {}\".format(ip, name))\n",
    "    stdout, stderr = srv_node.execute(f'ip addr show {srv_iface.get_os_interface()}')\n",
    "    print (stdout)"
   ]
  },
  {
   "cell_type": "markdown",
   "id": "0f422a5f-3250-4502-8555-4a3946888d6f",
   "metadata": {},
   "source": [
    "## Configure the Client's Interface"
   ]
  },
  {
   "cell_type": "code",
   "execution_count": 11,
   "id": "8c820a92-6b3a-4e0d-9a45-03f50ef61a0c",
   "metadata": {},
   "outputs": [
    {
     "name": "stdout",
     "output_type": "stream",
     "text": [
      "3: ens7: <BROADCAST,MULTICAST,UP,LOWER_UP> mtu 1500 qdisc mq state UP group default qlen 1000\n",
      "    link/ether 2e:a1:b4:ff:ee:4c brd ff:ff:ff:ff:ff:ff\n",
      "    inet 192.168.1.8/24 scope global ens7\n",
      "       valid_lft forever preferred_lft forever\n",
      "    inet6 fe80::2ca1:b4ff:feff:ee4c/64 scope link \n",
      "       valid_lft forever preferred_lft forever\n",
      "\n"
     ]
    }
   ],
   "source": [
    "try:\n",
    "    client = slice.get_node(name=\"client\")        \n",
    "    client_iface = client.get_interface(network_name=\"net_client\") \n",
    "    client_addr = available_ips.pop(0)\n",
    "    client_iface.ip_addr_add(addr=client_addr, subnet=subnet)\n",
    "    ip_map[\"if_lb_client\"] = ip\n",
    "    stdout, stderr = client.execute(f'ip addr show {client_iface.get_os_interface()}')\n",
    "    print (stdout)\n",
    "    \n",
    "except Exception as e:\n",
    "    print(f\"Exception: {e}\")"
   ]
  },
  {
   "cell_type": "code",
   "execution_count": 12,
   "id": "13b452a5-00de-4560-b182-e6fc178210c4",
   "metadata": {},
   "outputs": [
    {
     "name": "stdout",
     "output_type": "stream",
     "text": [
      "{'if_lb_server_0': IPv4Address('192.168.1.1'), 'if_lb_server_1': IPv4Address('192.168.1.2'), 'if_lb_server_2': IPv4Address('192.168.1.3'), 'if_lb_client': IPv4Address('192.168.1.7'), 'if_server_0': IPv4Address('192.168.1.5'), 'if_server_1': IPv4Address('192.168.1.6'), 'if_server_2': IPv4Address('192.168.1.7')}\n"
     ]
    }
   ],
   "source": [
    "print(ip_map)"
   ]
  },
  {
   "cell_type": "markdown",
   "id": "3017c7dd-36e1-41f8-b539-8bcc447fa936",
   "metadata": {},
   "source": [
    "## Install Nginx on the load balancer"
   ]
  },
  {
   "cell_type": "code",
   "execution_count": 13,
   "id": "d2167e91-e94f-4cc0-9ea0-aa5f76498442",
   "metadata": {},
   "outputs": [
    {
     "name": "stdout",
     "output_type": "stream",
     "text": [
      "Installing Ngnix...\n",
      "Hit:1 http://nova.clouds.archive.ubuntu.com/ubuntu focal InRelease\n",
      "Get:2 http://nova.clouds.archive.ubuntu.com/ubuntu focal-updates InRelease [114 kB]\n",
      "Get:3 http://security.ubuntu.com/ubuntu focal-security InRelease [114 kB]\n",
      "Get:4 http://nova.clouds.archive.ubuntu.com/ubuntu focal-backports InRelease [108 kB]\n",
      "Get:5 http://security.ubuntu.com/ubuntu focal-security/main amd64 Packages [1822 kB]\n",
      "Get:6 http://nova.clouds.archive.ubuntu.com/ubuntu focal/universe amd64 Packages [8628 kB]\n",
      "Get:7 http://security.ubuntu.com/ubuntu focal-security/main Translation-en [301 kB]\n",
      "Get:8 http://security.ubuntu.com/ubuntu focal-security/main amd64 c-n-f Metadata [11.2 kB]\n",
      "Get:9 http://security.ubuntu.com/ubuntu focal-security/restricted amd64 Packages [1293 kB]\n",
      "Get:10 http://security.ubuntu.com/ubuntu focal-security/restricted Translation-en [183 kB]\n",
      "Get:11 http://security.ubuntu.com/ubuntu focal-security/restricted amd64 c-n-f Metadata [628 B]\n",
      "Get:12 http://security.ubuntu.com/ubuntu focal-security/universe amd64 Packages [747 kB]\n",
      "Get:13 http://nova.clouds.archive.ubuntu.com/ubuntu focal/universe Translation-en [5124 kB]\n",
      "Get:14 http://security.ubuntu.com/ubuntu focal-security/universe Translation-en [138 kB]\n",
      "Get:15 http://security.ubuntu.com/ubuntu focal-security/universe amd64 c-n-f Metadata [15.3 kB]\n",
      "Get:16 http://security.ubuntu.com/ubuntu focal-security/multiverse amd64 Packages [22.2 kB]\n",
      "Get:17 http://security.ubuntu.com/ubuntu focal-security/multiverse Translation-en [5376 B]\n",
      "Get:18 http://security.ubuntu.com/ubuntu focal-security/multiverse amd64 c-n-f Metadata [508 B]\n",
      "Get:19 http://nova.clouds.archive.ubuntu.com/ubuntu focal/universe amd64 c-n-f Metadata [265 kB]\n",
      "Get:20 http://nova.clouds.archive.ubuntu.com/ubuntu focal/multiverse amd64 Packages [144 kB]\n",
      "Get:21 http://nova.clouds.archive.ubuntu.com/ubuntu focal/multiverse Translation-en [104 kB]\n",
      "Get:22 http://nova.clouds.archive.ubuntu.com/ubuntu focal/multiverse amd64 c-n-f Metadata [9136 B]\n",
      "Get:23 http://nova.clouds.archive.ubuntu.com/ubuntu focal-updates/main amd64 Packages [2197 kB]\n",
      "Get:24 http://nova.clouds.archive.ubuntu.com/ubuntu focal-updates/main Translation-en [385 kB]\n",
      "Get:25 http://nova.clouds.archive.ubuntu.com/ubuntu focal-updates/main amd64 c-n-f Metadata [16.0 kB]\n",
      "Get:26 http://nova.clouds.archive.ubuntu.com/ubuntu focal-updates/restricted amd64 Packages [1385 kB]\n",
      "Get:27 http://nova.clouds.archive.ubuntu.com/ubuntu focal-updates/restricted Translation-en [196 kB]\n",
      "Get:28 http://nova.clouds.archive.ubuntu.com/ubuntu focal-updates/restricted amd64 c-n-f Metadata [628 B]\n",
      "Get:29 http://nova.clouds.archive.ubuntu.com/ubuntu focal-updates/universe amd64 Packages [976 kB]\n",
      "Get:30 http://nova.clouds.archive.ubuntu.com/ubuntu focal-updates/universe Translation-en [222 kB]\n",
      "Get:31 http://nova.clouds.archive.ubuntu.com/ubuntu focal-updates/universe amd64 c-n-f Metadata [21.8 kB]\n",
      "Get:32 http://nova.clouds.archive.ubuntu.com/ubuntu focal-updates/multiverse amd64 Packages [24.4 kB]\n",
      "Get:33 http://nova.clouds.archive.ubuntu.com/ubuntu focal-updates/multiverse Translation-en [7316 B]\n",
      "Get:34 http://nova.clouds.archive.ubuntu.com/ubuntu focal-updates/multiverse amd64 c-n-f Metadata [588 B]\n",
      "Get:35 http://nova.clouds.archive.ubuntu.com/ubuntu focal-backports/main amd64 Packages [45.7 kB]\n",
      "Get:36 http://nova.clouds.archive.ubuntu.com/ubuntu focal-backports/main Translation-en [16.3 kB]\n",
      "Get:37 http://nova.clouds.archive.ubuntu.com/ubuntu focal-backports/main amd64 c-n-f Metadata [1420 B]\n",
      "Get:38 http://nova.clouds.archive.ubuntu.com/ubuntu focal-backports/restricted amd64 c-n-f Metadata [116 B]\n",
      "Get:39 http://nova.clouds.archive.ubuntu.com/ubuntu focal-backports/universe amd64 Packages [24.0 kB]\n",
      "Get:40 http://nova.clouds.archive.ubuntu.com/ubuntu focal-backports/universe Translation-en [16.0 kB]\n",
      "Get:41 http://nova.clouds.archive.ubuntu.com/ubuntu focal-backports/universe amd64 c-n-f Metadata [864 B]\n",
      "Get:42 http://nova.clouds.archive.ubuntu.com/ubuntu focal-backports/multiverse amd64 c-n-f Metadata [116 B]\n",
      "Fetched 24.7 MB in 5s (4797 kB/s)\n",
      "Reading package lists...\n",
      "Reading package lists...\n",
      "Building dependency tree...\n",
      "Reading state information...\n",
      "The following additional packages will be installed:\n",
      "  fontconfig-config fonts-dejavu-core libfontconfig1 libgd3 libjbig0\n",
      "  libjpeg-turbo8 libjpeg8 libnginx-mod-http-image-filter\n",
      "  libnginx-mod-http-xslt-filter libnginx-mod-mail libnginx-mod-stream libtiff5\n",
      "  libwebp6 libxpm4 nginx-common nginx-core\n",
      "Suggested packages:\n",
      "  libgd-tools fcgiwrap nginx-doc ssl-cert\n",
      "The following NEW packages will be installed:\n",
      "  fontconfig-config fonts-dejavu-core libfontconfig1 libgd3 libjbig0\n",
      "  libjpeg-turbo8 libjpeg8 libnginx-mod-http-image-filter\n",
      "  libnginx-mod-http-xslt-filter libnginx-mod-mail libnginx-mod-stream libtiff5\n",
      "  libwebp6 libxpm4 nginx nginx-common nginx-core\n",
      "0 upgraded, 17 newly installed, 0 to remove and 71 not upgraded.\n",
      "Need to get 2435 kB of archives.\n",
      "After this operation, 7893 kB of additional disk space will be used.\n",
      "Get:1 http://nova.clouds.archive.ubuntu.com/ubuntu focal/main amd64 fonts-dejavu-core all 2.37-1 [1041 kB]\n",
      "Get:2 http://nova.clouds.archive.ubuntu.com/ubuntu focal/main amd64 fontconfig-config all 2.13.1-2ubuntu3 [28.8 kB]\n",
      "Get:3 http://nova.clouds.archive.ubuntu.com/ubuntu focal/main amd64 libfontconfig1 amd64 2.13.1-2ubuntu3 [114 kB]\n",
      "Get:4 http://nova.clouds.archive.ubuntu.com/ubuntu focal-updates/main amd64 libjpeg-turbo8 amd64 2.0.3-0ubuntu1.20.04.3 [118 kB]\n",
      "Get:5 http://nova.clouds.archive.ubuntu.com/ubuntu focal/main amd64 libjpeg8 amd64 8c-2ubuntu8 [2194 B]\n",
      "Get:6 http://nova.clouds.archive.ubuntu.com/ubuntu focal/main amd64 libjbig0 amd64 2.1-3.1build1 [26.7 kB]\n",
      "Get:7 http://nova.clouds.archive.ubuntu.com/ubuntu focal-updates/main amd64 libwebp6 amd64 0.6.1-2ubuntu0.20.04.1 [185 kB]\n",
      "Get:8 http://nova.clouds.archive.ubuntu.com/ubuntu focal-updates/main amd64 libtiff5 amd64 4.1.0+git191117-2ubuntu0.20.04.6 [163 kB]\n",
      "Get:9 http://nova.clouds.archive.ubuntu.com/ubuntu focal/main amd64 libxpm4 amd64 1:3.5.12-1 [34.0 kB]\n",
      "Get:10 http://nova.clouds.archive.ubuntu.com/ubuntu focal-updates/main amd64 libgd3 amd64 2.2.5-5.2ubuntu2.1 [118 kB]\n",
      "Get:11 http://nova.clouds.archive.ubuntu.com/ubuntu focal-updates/main amd64 nginx-common all 1.18.0-0ubuntu1.3 [37.7 kB]\n",
      "Get:12 http://nova.clouds.archive.ubuntu.com/ubuntu focal-updates/main amd64 libnginx-mod-http-image-filter amd64 1.18.0-0ubuntu1.3 [14.8 kB]\n",
      "Get:13 http://nova.clouds.archive.ubuntu.com/ubuntu focal-updates/main amd64 libnginx-mod-http-xslt-filter amd64 1.18.0-0ubuntu1.3 [13.0 kB]\n",
      "Get:14 http://nova.clouds.archive.ubuntu.com/ubuntu focal-updates/main amd64 libnginx-mod-mail amd64 1.18.0-0ubuntu1.3 [42.8 kB]\n",
      "Get:15 http://nova.clouds.archive.ubuntu.com/ubuntu focal-updates/main amd64 libnginx-mod-stream amd64 1.18.0-0ubuntu1.3 [67.3 kB]\n",
      "Get:16 http://nova.clouds.archive.ubuntu.com/ubuntu focal-updates/main amd64 nginx-core amd64 1.18.0-0ubuntu1.3 [425 kB]\n",
      "Get:17 http://nova.clouds.archive.ubuntu.com/ubuntu focal-updates/main amd64 nginx all 1.18.0-0ubuntu1.3 [3620 B]\n",
      "Fetched 2435 kB in 3s (859 kB/s)\n",
      "Selecting previously unselected package fonts-dejavu-core.\n",
      "(Reading database ... 63804 files and directories currently installed.)\n",
      "Preparing to unpack .../00-fonts-dejavu-core_2.37-1_all.deb ...\n",
      "Unpacking fonts-dejavu-core (2.37-1) ...\n",
      "Selecting previously unselected package fontconfig-config.\n",
      "Preparing to unpack .../01-fontconfig-config_2.13.1-2ubuntu3_all.deb ...\n",
      "Unpacking fontconfig-config (2.13.1-2ubuntu3) ...\n",
      "Selecting previously unselected package libfontconfig1:amd64.\n",
      "Preparing to unpack .../02-libfontconfig1_2.13.1-2ubuntu3_amd64.deb ...\n",
      "Unpacking libfontconfig1:amd64 (2.13.1-2ubuntu3) ...\n",
      "Selecting previously unselected package libjpeg-turbo8:amd64.\n",
      "Preparing to unpack .../03-libjpeg-turbo8_2.0.3-0ubuntu1.20.04.3_amd64.deb ...\n",
      "Unpacking libjpeg-turbo8:amd64 (2.0.3-0ubuntu1.20.04.3) ...\n",
      "Selecting previously unselected package libjpeg8:amd64.\n",
      "Preparing to unpack .../04-libjpeg8_8c-2ubuntu8_amd64.deb ...\n",
      "Unpacking libjpeg8:amd64 (8c-2ubuntu8) ...\n",
      "Selecting previously unselected package libjbig0:amd64.\n",
      "Preparing to unpack .../05-libjbig0_2.1-3.1build1_amd64.deb ...\n",
      "Unpacking libjbig0:amd64 (2.1-3.1build1) ...\n",
      "Selecting previously unselected package libwebp6:amd64.\n",
      "Preparing to unpack .../06-libwebp6_0.6.1-2ubuntu0.20.04.1_amd64.deb ...\n",
      "Unpacking libwebp6:amd64 (0.6.1-2ubuntu0.20.04.1) ...\n",
      "Selecting previously unselected package libtiff5:amd64.\n",
      "Preparing to unpack .../07-libtiff5_4.1.0+git191117-2ubuntu0.20.04.6_amd64.deb ...\n",
      "Unpacking libtiff5:amd64 (4.1.0+git191117-2ubuntu0.20.04.6) ...\n",
      "Selecting previously unselected package libxpm4:amd64.\n",
      "Preparing to unpack .../08-libxpm4_1%3a3.5.12-1_amd64.deb ...\n",
      "Unpacking libxpm4:amd64 (1:3.5.12-1) ...\n",
      "Selecting previously unselected package libgd3:amd64.\n",
      "Preparing to unpack .../09-libgd3_2.2.5-5.2ubuntu2.1_amd64.deb ...\n",
      "Unpacking libgd3:amd64 (2.2.5-5.2ubuntu2.1) ...\n",
      "Selecting previously unselected package nginx-common.\n",
      "Preparing to unpack .../10-nginx-common_1.18.0-0ubuntu1.3_all.deb ...\n",
      "Unpacking nginx-common (1.18.0-0ubuntu1.3) ...\n",
      "Selecting previously unselected package libnginx-mod-http-image-filter.\n",
      "Preparing to unpack .../11-libnginx-mod-http-image-filter_1.18.0-0ubuntu1.3_amd64.deb ...\n",
      "Unpacking libnginx-mod-http-image-filter (1.18.0-0ubuntu1.3) ...\n",
      "Selecting previously unselected package libnginx-mod-http-xslt-filter.\n",
      "Preparing to unpack .../12-libnginx-mod-http-xslt-filter_1.18.0-0ubuntu1.3_amd64.deb ...\n",
      "Unpacking libnginx-mod-http-xslt-filter (1.18.0-0ubuntu1.3) ...\n",
      "Selecting previously unselected package libnginx-mod-mail.\n",
      "Preparing to unpack .../13-libnginx-mod-mail_1.18.0-0ubuntu1.3_amd64.deb ...\n",
      "Unpacking libnginx-mod-mail (1.18.0-0ubuntu1.3) ...\n",
      "Selecting previously unselected package libnginx-mod-stream.\n",
      "Preparing to unpack .../14-libnginx-mod-stream_1.18.0-0ubuntu1.3_amd64.deb ...\n",
      "Unpacking libnginx-mod-stream (1.18.0-0ubuntu1.3) ...\n",
      "Selecting previously unselected package nginx-core.\n",
      "Preparing to unpack .../15-nginx-core_1.18.0-0ubuntu1.3_amd64.deb ...\n",
      "Unpacking nginx-core (1.18.0-0ubuntu1.3) ...\n",
      "Selecting previously unselected package nginx.\n",
      "Preparing to unpack .../16-nginx_1.18.0-0ubuntu1.3_all.deb ...\n",
      "Unpacking nginx (1.18.0-0ubuntu1.3) ...\n",
      "Setting up libxpm4:amd64 (1:3.5.12-1) ...\n",
      "Setting up nginx-common (1.18.0-0ubuntu1.3) ...\n",
      "debconf: unable to initialize frontend: Dialog\n",
      "debconf: (Dialog frontend will not work on a dumb terminal, an emacs shell buffer, or without a controlling terminal.)\n",
      "debconf: falling back to frontend: Readline\n",
      "Created symlink /etc/systemd/system/multi-user.target.wants/nginx.service → /lib/systemd/system/nginx.service.\n",
      "Setting up libjbig0:amd64 (2.1-3.1build1) ...\n",
      "Setting up libnginx-mod-http-xslt-filter (1.18.0-0ubuntu1.3) ...\n",
      "Setting up libwebp6:amd64 (0.6.1-2ubuntu0.20.04.1) ...\n",
      "Setting up fonts-dejavu-core (2.37-1) ...\n",
      "Setting up libjpeg-turbo8:amd64 (2.0.3-0ubuntu1.20.04.3) ...\n",
      "Setting up libjpeg8:amd64 (8c-2ubuntu8) ...\n",
      "Setting up libnginx-mod-mail (1.18.0-0ubuntu1.3) ...\n",
      "Setting up fontconfig-config (2.13.1-2ubuntu3) ...\n",
      "Setting up libnginx-mod-stream (1.18.0-0ubuntu1.3) ...\n",
      "Setting up libtiff5:amd64 (4.1.0+git191117-2ubuntu0.20.04.6) ...\n",
      "Setting up libfontconfig1:amd64 (2.13.1-2ubuntu3) ...\n",
      "Setting up libgd3:amd64 (2.2.5-5.2ubuntu2.1) ...\n",
      "Setting up libnginx-mod-http-image-filter (1.18.0-0ubuntu1.3) ...\n",
      "Setting up nginx-core (1.18.0-0ubuntu1.3) ...\n",
      "Setting up nginx (1.18.0-0ubuntu1.3) ...\n",
      "Processing triggers for ufw (0.36-6ubuntu1) ...\n",
      "Processing triggers for systemd (245.4-4ubuntu3.17) ...\n",
      "Processing triggers for man-db (2.9.1-1) ...\n",
      "Processing triggers for libc-bin (2.31-0ubuntu9.9) ...\n",
      "\n",
      "Finished installing Ngnix.\n"
     ]
    }
   ],
   "source": [
    "try:\n",
    "    print(\"Installing Ngnix...\")\n",
    "    lb_node = slice.get_node(\"ngnix_lb\")\n",
    "    stdout, stderr = lb_node.execute(\"sudo apt-get update && sudo apt install -y nginx\")\n",
    "    print(stdout)\n",
    "    print(\"Finished installing Ngnix.\")\n",
    "    \n",
    "except Exception as e:\n",
    "    print(f\"Exception: {e}\")"
   ]
  },
  {
   "cell_type": "code",
   "execution_count": 31,
   "id": "a9a59702-58ed-4e50-8b66-1201a2a83ebc",
   "metadata": {},
   "outputs": [
    {
     "name": "stdout",
     "output_type": "stream",
     "text": [
      "{'if_lb_server_0': IPv4Address('192.168.1.1'), 'if_lb_server_1': IPv4Address('192.168.1.2'), 'if_lb_server_2': IPv4Address('192.168.1.3'), 'if_lb_server_3': IPv4Address('192.168.1.4'), 'if_lb_server_4': IPv4Address('192.168.1.5'), 'if_lb_client': IPv4Address('192.168.1.16'), 'if_server_0': IPv4Address('192.168.1.12'), 'if_server_1': IPv4Address('192.168.1.13'), 'if_server_2': IPv4Address('192.168.1.14'), 'if_server_3': IPv4Address('192.168.1.15'), 'if_server_4': IPv4Address('192.168.1.16')}\n"
     ]
    }
   ],
   "source": [
    "print(ip_map)"
   ]
  }
 ],
 "metadata": {
  "kernelspec": {
   "display_name": "Python 3 (ipykernel)",
   "language": "python",
   "name": "python3"
  },
  "language_info": {
   "codemirror_mode": {
    "name": "ipython",
    "version": 3
   },
   "file_extension": ".py",
   "mimetype": "text/x-python",
   "name": "python",
   "nbconvert_exporter": "python",
   "pygments_lexer": "ipython3",
   "version": "3.9.7"
  }
 },
 "nbformat": 4,
 "nbformat_minor": 5
}
